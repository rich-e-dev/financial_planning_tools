{
 "cells": [
  {
   "cell_type": "markdown",
   "metadata": {},
   "source": [
    "# Financial Planning with APIs and Simulations\n",
    "\n",
    "In this Challenge, you’ll create two financial analysis tools by using a single Jupyter notebook:\n",
    "\n",
    "Part 1: A financial planner for emergencies. The members will be able to use this tool to visualize their current savings. The members can then determine if they have enough reserves for an emergency fund.\n",
    "\n",
    "Part 2: A financial planner for retirement. This tool will forecast the performance of their retirement portfolio in 30 years. To do this, the tool will make an Alpaca API call via the Alpaca SDK to get historical price data for use in Monte Carlo simulations.\n",
    "\n",
    "You’ll use the information from the Monte Carlo simulation to answer questions about the portfolio in your Jupyter notebook.\n",
    "\n"
   ]
  },
  {
   "cell_type": "code",
   "execution_count": 1,
   "metadata": {},
   "outputs": [],
   "source": [
    "# Import the required libraries and dependencies\n",
    "import os\n",
    "import requests\n",
    "import json\n",
    "import pandas as pd\n",
    "from dotenv import load_dotenv\n",
    "import alpaca_trade_api as tradeapi\n",
    "from MCForecastTools import MCSimulation\n",
    "\n",
    "%matplotlib inline"
   ]
  },
  {
   "cell_type": "code",
   "execution_count": 2,
   "metadata": {},
   "outputs": [
    {
     "data": {
      "text/plain": [
       "True"
      ]
     },
     "execution_count": 2,
     "metadata": {},
     "output_type": "execute_result"
    }
   ],
   "source": [
    "# Load the environment variables from the .env file\n",
    "#by calling the load_dotenv function\n",
    "load_dotenv()\n"
   ]
  },
  {
   "cell_type": "markdown",
   "metadata": {},
   "source": [
    "## Part 1: Create a Financial Planner for Emergencies"
   ]
  },
  {
   "cell_type": "markdown",
   "metadata": {},
   "source": [
    "### Evaluate the Cryptocurrency Wallet by Using the Requests Library\n",
    "\n",
    "In this section, you’ll determine the current value of a member’s cryptocurrency wallet. You’ll collect the current prices for the Bitcoin and Ethereum cryptocurrencies by using the Python Requests library. For the prototype, you’ll assume that the member holds the 1.2 Bitcoins (BTC) and 5.3 Ethereum coins (ETH). To do all this, complete the following steps:\n",
    "\n",
    "1. Create a variable named `monthly_income`, and set its value to `12000`.\n",
    "\n",
    "2. Use the Requests library to get the current price (in US dollars) of Bitcoin (BTC) and Ethereum (ETH) by using the API endpoints that the starter code supplies.\n",
    "\n",
    "3. Navigate the JSON response object to access the current price of each coin, and store each in a variable.\n",
    "\n",
    "    > **Hint** Note the specific identifier for each cryptocurrency in the API JSON response. The Bitcoin identifier is `1`, and the Ethereum identifier is `1027`.\n",
    "\n",
    "4. Calculate the value, in US dollars, of the current amount of each cryptocurrency and of the entire cryptocurrency wallet.\n",
    "\n"
   ]
  },
  {
   "cell_type": "code",
   "execution_count": 3,
   "metadata": {},
   "outputs": [],
   "source": [
    "# The current number of coins for each cryptocurrency asset held in the portfolio.\n",
    "btc_coins = 1.2\n",
    "eth_coins = 5.3"
   ]
  },
  {
   "cell_type": "markdown",
   "metadata": {},
   "source": [
    "#### Step 1: Create a variable named `monthly_income`, and set its value to `12000`."
   ]
  },
  {
   "cell_type": "code",
   "execution_count": 4,
   "metadata": {},
   "outputs": [],
   "source": [
    "# The monthly amount for the member's household income\n",
    "monthly_income = 12000\n"
   ]
  },
  {
   "cell_type": "markdown",
   "metadata": {},
   "source": [
    "#### Review the endpoint URLs for the API calls to Free Crypto API in order to get the current pricing information for both BTC and ETH."
   ]
  },
  {
   "cell_type": "code",
   "execution_count": 5,
   "metadata": {},
   "outputs": [],
   "source": [
    "# The Free Crypto API Call endpoint URLs for the held cryptocurrency assets\n",
    "btc_url = \"https://api.alternative.me/v2/ticker/Bitcoin/?convert=USD\"\n",
    "eth_url = \"https://api.alternative.me/v2/ticker/Ethereum/?convert=USD\""
   ]
  },
  {
   "cell_type": "markdown",
   "metadata": {},
   "source": [
    "#### Step 2. Use the Requests library to get the current price (in US dollars) of Bitcoin (BTC) and Ethereum (ETH) by using the API endpoints that the starter code supplied."
   ]
  },
  {
   "cell_type": "code",
   "execution_count": 6,
   "metadata": {},
   "outputs": [
    {
     "name": "stdout",
     "output_type": "stream",
     "text": [
      "{\n",
      "    \"data\": {\n",
      "        \"1\": {\n",
      "            \"circulating_supply\": 19125418,\n",
      "            \"id\": 1,\n",
      "            \"last_updated\": 1660883944,\n",
      "            \"max_supply\": 21000000,\n",
      "            \"name\": \"Bitcoin\",\n",
      "            \"quotes\": {\n",
      "                \"USD\": {\n",
      "                    \"market_cap\": 436873263520,\n",
      "                    \"percent_change_1h\": 0.0705146705330868,\n",
      "                    \"percent_change_24h\": -2.39886005591192,\n",
      "                    \"percent_change_7d\": -4.61904866806014,\n",
      "                    \"percentage_change_1h\": 0.0705146705330868,\n",
      "                    \"percentage_change_24h\": -2.39886005591192,\n",
      "                    \"percentage_change_7d\": -4.61904866806014,\n",
      "                    \"price\": 22843.0,\n",
      "                    \"volume_24h\": 22635824594\n",
      "                }\n",
      "            },\n",
      "            \"rank\": 1,\n",
      "            \"symbol\": \"BTC\",\n",
      "            \"total_supply\": 19125418,\n",
      "            \"website_slug\": \"bitcoin\"\n",
      "        }\n",
      "    },\n",
      "    \"metadata\": {\n",
      "        \"error\": null,\n",
      "        \"num_cryptocurrencies\": 3116,\n",
      "        \"timestamp\": 1660883944\n",
      "    }\n",
      "}\n"
     ]
    }
   ],
   "source": [
    "# Using the Python requests library, make an API call to access the current price of BTC\n",
    "btc_response = requests.get(btc_url).json()\n",
    "\n",
    "# Use the json.dumps function to review the response data from the API call\n",
    "# Use the indent and sort_keys parameters to make the response object readable\n",
    "print(json.dumps(btc_response, indent=4, sort_keys=True))\n"
   ]
  },
  {
   "cell_type": "code",
   "execution_count": 7,
   "metadata": {},
   "outputs": [
    {
     "name": "stdout",
     "output_type": "stream",
     "text": [
      "{\n",
      "    \"data\": {\n",
      "        \"1027\": {\n",
      "            \"circulating_supply\": 120157725,\n",
      "            \"id\": 1027,\n",
      "            \"last_updated\": 1660883961,\n",
      "            \"max_supply\": 120156019,\n",
      "            \"name\": \"Ethereum\",\n",
      "            \"quotes\": {\n",
      "                \"USD\": {\n",
      "                    \"market_cap\": 219236114119,\n",
      "                    \"percent_change_1h\": -0.0643519612344076,\n",
      "                    \"percent_change_24h\": -1.33056371823551,\n",
      "                    \"percent_change_7d\": -3.02206445465196,\n",
      "                    \"percentage_change_1h\": -0.0643519612344076,\n",
      "                    \"percentage_change_24h\": -1.33056371823551,\n",
      "                    \"percentage_change_7d\": -3.02206445465196,\n",
      "                    \"price\": 1824.57,\n",
      "                    \"volume_24h\": 14515829888\n",
      "                }\n",
      "            },\n",
      "            \"rank\": 2,\n",
      "            \"symbol\": \"ETH\",\n",
      "            \"total_supply\": 120157725,\n",
      "            \"website_slug\": \"ethereum\"\n",
      "        }\n",
      "    },\n",
      "    \"metadata\": {\n",
      "        \"error\": null,\n",
      "        \"num_cryptocurrencies\": 3116,\n",
      "        \"timestamp\": 1660883961\n",
      "    }\n",
      "}\n"
     ]
    }
   ],
   "source": [
    "# Using the Python requests library, make an API call to access the current price ETH\n",
    "eth_response = requests.get(eth_url).json()\n",
    "\n",
    "# Use the json.dumps function to review the response data from the API call\n",
    "# Use the indent and sort_keys parameters to make the response object readable\n",
    "print(json.dumps(eth_response, indent=4, sort_keys=True))\n"
   ]
  },
  {
   "cell_type": "markdown",
   "metadata": {},
   "source": [
    "#### Step 3: Navigate the JSON response object to access the current price of each coin, and store each in a variable."
   ]
  },
  {
   "cell_type": "code",
   "execution_count": 8,
   "metadata": {},
   "outputs": [
    {
     "name": "stdout",
     "output_type": "stream",
     "text": [
      "The current price of Bitcoin = $ 22843.00\n"
     ]
    }
   ],
   "source": [
    "# Navigate the BTC response object to access the current price of BTC\n",
    "btc_price = btc_response['data']['1']['quotes']['USD']['price']\n",
    "\n",
    "# Print the current price of BTC\n",
    "print(f\"The current price of Bitcoin = ${btc_price: .2f}\")\n"
   ]
  },
  {
   "cell_type": "code",
   "execution_count": 9,
   "metadata": {},
   "outputs": [
    {
     "name": "stdout",
     "output_type": "stream",
     "text": [
      "The current price of Ethereum = $ 1824.57\n"
     ]
    }
   ],
   "source": [
    "# Navigate the BTC response object to access the current price of ETH\n",
    "eth_price = eth_response['data']['1027']['quotes']['USD']['price']\n",
    "\n",
    "# Print the current price of ETH\n",
    "print(f\"The current price of Ethereum = ${eth_price: .2f}\")\n"
   ]
  },
  {
   "cell_type": "markdown",
   "metadata": {},
   "source": [
    "### Step 4: Calculate the value, in US dollars, of the current amount of each cryptocurrency and of the entire cryptocurrency wallet."
   ]
  },
  {
   "cell_type": "code",
   "execution_count": 10,
   "metadata": {},
   "outputs": [
    {
     "name": "stdout",
     "output_type": "stream",
     "text": [
      "The current value of your Bitcoin is $ 27411.60\n"
     ]
    }
   ],
   "source": [
    "# Compute the current value of the BTC holding \n",
    "btc_value = btc_price * btc_coins\n",
    "\n",
    "# Print current value of your holding in BTC\n",
    "print(f'The current value of your Bitcoin is ${btc_value: .2f}')\n"
   ]
  },
  {
   "cell_type": "code",
   "execution_count": 11,
   "metadata": {},
   "outputs": [
    {
     "name": "stdout",
     "output_type": "stream",
     "text": [
      "The current value of your Ethereum is $9670.221\n"
     ]
    }
   ],
   "source": [
    "# Compute the current value of the ETH holding \n",
    "eth_value = eth_price * eth_coins\n",
    "\n",
    "# Print current value of your holding in ETH\n",
    "print(f'The current value of your Ethereum is ${eth_value}')\n"
   ]
  },
  {
   "cell_type": "code",
   "execution_count": 12,
   "metadata": {},
   "outputs": [
    {
     "name": "stdout",
     "output_type": "stream",
     "text": [
      "Total wallet ballance = $37081.820999999996\n"
     ]
    }
   ],
   "source": [
    "# Compute the total value of the cryptocurrency wallet\n",
    "# Add the value of the BTC holding to the value of the ETH holding\n",
    "total_crypto_wallet = btc_value + eth_value\n",
    "\n",
    "# Print current cryptocurrency wallet balance\n",
    "print(f'Total wallet ballance = ${total_crypto_wallet}')\n"
   ]
  },
  {
   "cell_type": "markdown",
   "metadata": {},
   "source": [
    "### Evaluate the Stock and Bond Holdings by Using the Alpaca SDK\n",
    "\n",
    "In this section, you’ll determine the current value of a member’s stock and bond holdings. You’ll make an API call to Alpaca via the Alpaca SDK to get the current closing prices of the SPDR S&P 500 ETF Trust (ticker: SPY) and of the iShares Core US Aggregate Bond ETF (ticker: AGG). For the prototype, assume that the member holds 110 shares of SPY, which represents the stock portion of their portfolio, and 200 shares of AGG, which represents the bond portion. To do all this, complete the following steps:\n",
    "\n",
    "1. In the `Starter_Code` folder, create an environment file (`.env`) to store the values of your Alpaca API key and Alpaca secret key.\n",
    "\n",
    "2. Set the variables for the Alpaca API and secret keys. Using the Alpaca SDK, create the Alpaca `tradeapi.REST` object. In this object, include the parameters for the Alpaca API key, the secret key, and the version number.\n",
    "\n",
    "3. Set the following parameters for the Alpaca API call:\n",
    "\n",
    "    - `tickers`: Use the tickers for the member’s stock and bond holdings.\n",
    "\n",
    "    - `timeframe`: Use a time frame of one day.\n",
    "\n",
    "    - `start_date` and `end_date`: Use the same date for these parameters, and format them with the date of the previous weekday (or `2020-08-07`). This is because you want the one closing price for the most-recent trading day.\n",
    "\n",
    "4. Get the current closing prices for `SPY` and `AGG` by using the Alpaca `get_bars` function. Format the response as a Pandas DataFrame by including the `df` property at the end of the `get_bars` function.\n",
    "\n",
    "5. Navigating the Alpaca response DataFrame, select the `SPY` and `AGG` closing prices, and store them as variables.\n",
    "\n",
    "6. Calculate the value, in US dollars, of the current amount of shares in each of the stock and bond portions of the portfolio, and print the results.\n"
   ]
  },
  {
   "cell_type": "markdown",
   "metadata": {},
   "source": [
    "#### Review the total number of shares held in both (SPY) and (AGG)."
   ]
  },
  {
   "cell_type": "code",
   "execution_count": 13,
   "metadata": {},
   "outputs": [],
   "source": [
    "# Current amount of shares held in both the stock (SPY) and bond (AGG) portion of the portfolio.\n",
    "spy_shares = 110\n",
    "agg_shares = 200\n"
   ]
  },
  {
   "cell_type": "markdown",
   "metadata": {},
   "source": [
    "#### Step 1: In the `Starter_Code` folder, create an environment file (`.env`) to store the values of your Alpaca API key and Alpaca secret key."
   ]
  },
  {
   "cell_type": "markdown",
   "metadata": {},
   "source": [
    "#### Step 2: Set the variables for the Alpaca API and secret keys. Using the Alpaca SDK, create the Alpaca `tradeapi.REST` object. In this object, include the parameters for the Alpaca API key, the secret key, and the version number."
   ]
  },
  {
   "cell_type": "code",
   "execution_count": 14,
   "metadata": {},
   "outputs": [],
   "source": [
    "# Set the variables for the Alpaca API and secret keys\n",
    "alpaca_key = os.getenv('ALPACA_API_KEY')\n",
    "alpaca_secret = os.getenv('ALPACA_SECRET_KEY')\n",
    "\n",
    "# Create the Alpaca tradeapi.REST object\n",
    "alpaca=tradeapi.REST(\n",
    "    alpaca_key,\n",
    "    alpaca_secret,\n",
    "    api_version='v2'\n",
    ")"
   ]
  },
  {
   "cell_type": "markdown",
   "metadata": {},
   "source": [
    "#### Step 3: Set the following parameters for the Alpaca API call:\n",
    "\n",
    "- `tickers`: Use the tickers for the member’s stock and bond holdings.\n",
    "\n",
    "- `timeframe`: Use a time frame of one day.\n",
    "\n",
    "- `start_date` and `end_date`: Use the same date for these parameters, and format them with the date of the previous weekday (or `2020-08-07`). This is because you want the one closing price for the most-recent trading day.\n"
   ]
  },
  {
   "cell_type": "code",
   "execution_count": 15,
   "metadata": {},
   "outputs": [],
   "source": [
    "# Set the tickers for both the bond and stock portion of the portfolio\n",
    "tickers = [\"SPY\",\"AGG\"]\n",
    "\n",
    "# Set timeframe to 1Day\n",
    "timeframe = \"1day\"\n",
    "\n",
    "# Format current date as ISO format\n",
    "# Set both the start and end date at the date of your prior weekday \n",
    "# This will give you the closing price of the previous trading day\n",
    "# Alternatively you can use a start and end date of 2020-08-07\n",
    "start_date = pd.Timestamp(\"2020-08-07\", tz=\"America/New_York\").isoformat()\n",
    "end_date = pd.Timestamp(\"2020-08-14\", tz=\"America/New_York\").isoformat()\n"
   ]
  },
  {
   "cell_type": "markdown",
   "metadata": {},
   "source": [
    "#### Step 4: Get the current closing prices for `SPY` and `AGG` by using the Alpaca `get_bars` function. Format the response as a Pandas DataFrame by including the `df` property at the end of the `get_bars` function."
   ]
  },
  {
   "cell_type": "code",
   "execution_count": 16,
   "metadata": {},
   "outputs": [
    {
     "data": {
      "text/html": [
       "<div>\n",
       "<style scoped>\n",
       "    .dataframe tbody tr th:only-of-type {\n",
       "        vertical-align: middle;\n",
       "    }\n",
       "\n",
       "    .dataframe tbody tr th {\n",
       "        vertical-align: top;\n",
       "    }\n",
       "\n",
       "    .dataframe thead tr th {\n",
       "        text-align: left;\n",
       "    }\n",
       "\n",
       "    .dataframe thead tr:last-of-type th {\n",
       "        text-align: right;\n",
       "    }\n",
       "</style>\n",
       "<table border=\"1\" class=\"dataframe\">\n",
       "  <thead>\n",
       "    <tr>\n",
       "      <th></th>\n",
       "      <th colspan=\"7\" halign=\"left\">SPY</th>\n",
       "      <th colspan=\"7\" halign=\"left\">AGG</th>\n",
       "    </tr>\n",
       "    <tr>\n",
       "      <th></th>\n",
       "      <th>open</th>\n",
       "      <th>high</th>\n",
       "      <th>low</th>\n",
       "      <th>close</th>\n",
       "      <th>volume</th>\n",
       "      <th>trade_count</th>\n",
       "      <th>vwap</th>\n",
       "      <th>open</th>\n",
       "      <th>high</th>\n",
       "      <th>low</th>\n",
       "      <th>close</th>\n",
       "      <th>volume</th>\n",
       "      <th>trade_count</th>\n",
       "      <th>vwap</th>\n",
       "    </tr>\n",
       "    <tr>\n",
       "      <th>timestamp</th>\n",
       "      <th></th>\n",
       "      <th></th>\n",
       "      <th></th>\n",
       "      <th></th>\n",
       "      <th></th>\n",
       "      <th></th>\n",
       "      <th></th>\n",
       "      <th></th>\n",
       "      <th></th>\n",
       "      <th></th>\n",
       "      <th></th>\n",
       "      <th></th>\n",
       "      <th></th>\n",
       "      <th></th>\n",
       "    </tr>\n",
       "  </thead>\n",
       "  <tbody>\n",
       "    <tr>\n",
       "      <th>2020-08-07 04:00:00+00:00</th>\n",
       "      <td>333.29</td>\n",
       "      <td>334.8800</td>\n",
       "      <td>332.3000</td>\n",
       "      <td>334.57</td>\n",
       "      <td>57282821</td>\n",
       "      <td>350100</td>\n",
       "      <td>333.800372</td>\n",
       "      <td>119.66</td>\n",
       "      <td>119.730</td>\n",
       "      <td>119.395</td>\n",
       "      <td>119.43</td>\n",
       "      <td>5559066</td>\n",
       "      <td>15246</td>\n",
       "      <td>119.475306</td>\n",
       "    </tr>\n",
       "    <tr>\n",
       "      <th>2020-08-10 04:00:00+00:00</th>\n",
       "      <td>335.00</td>\n",
       "      <td>335.7700</td>\n",
       "      <td>332.9550</td>\n",
       "      <td>335.57</td>\n",
       "      <td>44268089</td>\n",
       "      <td>284606</td>\n",
       "      <td>334.984210</td>\n",
       "      <td>119.62</td>\n",
       "      <td>119.635</td>\n",
       "      <td>119.280</td>\n",
       "      <td>119.32</td>\n",
       "      <td>5152700</td>\n",
       "      <td>16679</td>\n",
       "      <td>119.403983</td>\n",
       "    </tr>\n",
       "    <tr>\n",
       "      <th>2020-08-11 04:00:00+00:00</th>\n",
       "      <td>336.86</td>\n",
       "      <td>337.5400</td>\n",
       "      <td>332.0100</td>\n",
       "      <td>332.80</td>\n",
       "      <td>69601087</td>\n",
       "      <td>385851</td>\n",
       "      <td>335.212188</td>\n",
       "      <td>119.11</td>\n",
       "      <td>119.210</td>\n",
       "      <td>118.840</td>\n",
       "      <td>118.99</td>\n",
       "      <td>7809897</td>\n",
       "      <td>19839</td>\n",
       "      <td>118.963269</td>\n",
       "    </tr>\n",
       "    <tr>\n",
       "      <th>2020-08-12 04:00:00+00:00</th>\n",
       "      <td>335.47</td>\n",
       "      <td>338.2800</td>\n",
       "      <td>332.8377</td>\n",
       "      <td>337.44</td>\n",
       "      <td>53717138</td>\n",
       "      <td>312587</td>\n",
       "      <td>336.712689</td>\n",
       "      <td>118.73</td>\n",
       "      <td>118.890</td>\n",
       "      <td>118.650</td>\n",
       "      <td>118.75</td>\n",
       "      <td>5524629</td>\n",
       "      <td>16150</td>\n",
       "      <td>118.765101</td>\n",
       "    </tr>\n",
       "    <tr>\n",
       "      <th>2020-08-13 04:00:00+00:00</th>\n",
       "      <td>336.58</td>\n",
       "      <td>338.2514</td>\n",
       "      <td>335.8300</td>\n",
       "      <td>336.83</td>\n",
       "      <td>41816146</td>\n",
       "      <td>278288</td>\n",
       "      <td>337.208317</td>\n",
       "      <td>118.77</td>\n",
       "      <td>118.780</td>\n",
       "      <td>118.240</td>\n",
       "      <td>118.31</td>\n",
       "      <td>8023792</td>\n",
       "      <td>24610</td>\n",
       "      <td>118.442915</td>\n",
       "    </tr>\n",
       "  </tbody>\n",
       "</table>\n",
       "</div>"
      ],
      "text/plain": [
       "                              SPY                                        \\\n",
       "                             open      high       low   close    volume   \n",
       "timestamp                                                                 \n",
       "2020-08-07 04:00:00+00:00  333.29  334.8800  332.3000  334.57  57282821   \n",
       "2020-08-10 04:00:00+00:00  335.00  335.7700  332.9550  335.57  44268089   \n",
       "2020-08-11 04:00:00+00:00  336.86  337.5400  332.0100  332.80  69601087   \n",
       "2020-08-12 04:00:00+00:00  335.47  338.2800  332.8377  337.44  53717138   \n",
       "2020-08-13 04:00:00+00:00  336.58  338.2514  335.8300  336.83  41816146   \n",
       "\n",
       "                                                      AGG                    \\\n",
       "                          trade_count        vwap    open     high      low   \n",
       "timestamp                                                                     \n",
       "2020-08-07 04:00:00+00:00      350100  333.800372  119.66  119.730  119.395   \n",
       "2020-08-10 04:00:00+00:00      284606  334.984210  119.62  119.635  119.280   \n",
       "2020-08-11 04:00:00+00:00      385851  335.212188  119.11  119.210  118.840   \n",
       "2020-08-12 04:00:00+00:00      312587  336.712689  118.73  118.890  118.650   \n",
       "2020-08-13 04:00:00+00:00      278288  337.208317  118.77  118.780  118.240   \n",
       "\n",
       "                                                                    \n",
       "                            close   volume trade_count        vwap  \n",
       "timestamp                                                           \n",
       "2020-08-07 04:00:00+00:00  119.43  5559066       15246  119.475306  \n",
       "2020-08-10 04:00:00+00:00  119.32  5152700       16679  119.403983  \n",
       "2020-08-11 04:00:00+00:00  118.99  7809897       19839  118.963269  \n",
       "2020-08-12 04:00:00+00:00  118.75  5524629       16150  118.765101  \n",
       "2020-08-13 04:00:00+00:00  118.31  8023792       24610  118.442915  "
      ]
     },
     "execution_count": 16,
     "metadata": {},
     "output_type": "execute_result"
    }
   ],
   "source": [
    "# Use the Alpaca get_bars function to get current closing prices the portfolio\n",
    "# Be sure to set the `df` property after the function to format the response object as a DataFrame\n",
    "prices_df = alpaca.get_bars(\n",
    "    tickers,\n",
    "    timeframe,\n",
    "    start=start_date,\n",
    "    end=end_date\n",
    ").df\n",
    "\n",
    "# Reorganize the DataFrame\n",
    "# Separate ticker data\n",
    "SPY = prices_df[prices_df['symbol']=='SPY'].drop('symbol', axis=1)\n",
    "AGG = prices_df[prices_df['symbol']=='AGG'].drop('symbol', axis=1)\n",
    "\n",
    "# Concatenate the ticker DataFrames\n",
    "prices_df = pd.concat([SPY, AGG], axis=1, keys=[\"SPY\", \"AGG\"])\n",
    "\n",
    "# Review the first 5 rows of the Alpaca DataFrame\n",
    "prices_df.head()\n"
   ]
  },
  {
   "cell_type": "markdown",
   "metadata": {},
   "source": [
    "#### Step 5: Navigating the Alpaca response DataFrame, select the `SPY` and `AGG` closing prices, and store them as variables."
   ]
  },
  {
   "cell_type": "code",
   "execution_count": 19,
   "metadata": {},
   "outputs": [
    {
     "name": "stdout",
     "output_type": "stream",
     "text": [
      "AGG closing price = $119.43\n"
     ]
    }
   ],
   "source": [
    "# Access the closing price for AGG from the Alpaca DataFrame\n",
    "# Converting the value to a floating point number\n",
    "agg_close_price = prices_df['AGG']['close'][0]\n",
    "\n",
    "# Print the AGG closing price\n",
    "print(f'AGG closing price = ${agg_close_price}')\n"
   ]
  },
  {
   "cell_type": "code",
   "execution_count": 20,
   "metadata": {},
   "outputs": [
    {
     "name": "stdout",
     "output_type": "stream",
     "text": [
      "SPY closing price = $119.43\n"
     ]
    }
   ],
   "source": [
    "# Access the closing price for SPY from the Alpaca DataFrame\n",
    "# Converting the value to a floating point number\n",
    "spy_close_price =prices_df[\"AGG\"]['close'][0]\n",
    "\n",
    "# Print the SPY closing price\n",
    "print(f'SPY closing price = ${spy_close_price}')\n"
   ]
  },
  {
   "cell_type": "markdown",
   "metadata": {},
   "source": [
    "#### Step 6: Calculate the value, in US dollars, of the current amount of shares in each of the stock and bond portions of the portfolio, and print the results."
   ]
  },
  {
   "cell_type": "code",
   "execution_count": 21,
   "metadata": {},
   "outputs": [
    {
     "name": "stdout",
     "output_type": "stream",
     "text": [
      "The current value of AGG in this portfolio = $ 23886.00\n"
     ]
    }
   ],
   "source": [
    "# Calculate the current value of the bond portion of the portfolio\n",
    "agg_value = agg_close_price * agg_shares\n",
    "\n",
    "# Print the current value of the bond portfolio\n",
    "print(f'The current value of AGG in this portfolio = ${agg_value: .2f}')\n"
   ]
  },
  {
   "cell_type": "code",
   "execution_count": 22,
   "metadata": {},
   "outputs": [
    {
     "name": "stdout",
     "output_type": "stream",
     "text": [
      "The current value of SPY in this portfolio = $ 13137.30\n"
     ]
    }
   ],
   "source": [
    "# Calculate the current value of the stock portion of the portfolio\n",
    "spy_value =spy_close_price * spy_shares\n",
    "\n",
    "# Print the current value of the stock portfolio\n",
    "print(f'The current value of SPY in this portfolio = ${spy_value: .2f}')\n"
   ]
  },
  {
   "cell_type": "code",
   "execution_count": 23,
   "metadata": {},
   "outputs": [
    {
     "name": "stdout",
     "output_type": "stream",
     "text": [
      "The current total value of stocks and bonds in this portfolio = $37023.3\n"
     ]
    }
   ],
   "source": [
    "# Calculate the total value of the stock and bond portion of the portfolio\n",
    "total_stocks_bonds =spy_value + agg_value\n",
    "\n",
    "# Print the current balance of the stock and bond portion of the portfolio\n",
    "print(f'The current total value of stocks and bonds in this portfolio = ${total_stocks_bonds}')\n"
   ]
  },
  {
   "cell_type": "code",
   "execution_count": 24,
   "metadata": {},
   "outputs": [
    {
     "name": "stdout",
     "output_type": "stream",
     "text": [
      "The current total value of stocks, bonds, and cryptos in this portfolio = $ 74105.12\n"
     ]
    }
   ],
   "source": [
    "# Calculate the total value of the member's entire savings portfolio\n",
    "# Add the value of the cryptocurrency walled to the value of the total stocks and bonds\n",
    "total_portfolio = total_stocks_bonds + total_crypto_wallet\n",
    "\n",
    "\n",
    "# Print current cryptocurrency wallet balance\n",
    "print(f'The current total value of stocks, bonds, and cryptos in this portfolio = ${total_portfolio: .2f}')\n"
   ]
  },
  {
   "cell_type": "markdown",
   "metadata": {},
   "source": [
    "### Evaluate the Emergency Fund\n",
    "\n",
    "In this section, you’ll use the valuations for the cryptocurrency wallet and for the stock and bond portions of the portfolio to determine if the credit union member has enough savings to build an emergency fund into their financial plan. To do this, complete the following steps:\n",
    "\n",
    "1. Create a Python list named `savings_data` that has two elements. The first element contains the total value of the cryptocurrency wallet. The second element contains the total value of the stock and bond portions of the portfolio.\n",
    "\n",
    "2. Use the `savings_data` list to create a Pandas DataFrame named `savings_df`, and then display this DataFrame. The function to create the DataFrame should take the following three parameters:\n",
    "\n",
    "    - `savings_data`: Use the list that you just created.\n",
    "\n",
    "    - `columns`: Set this parameter equal to a Python list with a single value called `amount`.\n",
    "\n",
    "    - `index`: Set this parameter equal to a Python list with the values of `crypto` and `stock/bond`.\n",
    "\n",
    "3. Use the `savings_df` DataFrame to plot a pie chart that visualizes the composition of the member’s portfolio. The y-axis of the pie chart uses `amount`. Be sure to add a title.\n",
    "\n",
    "4. Using Python, determine if the current portfolio has enough to create an emergency fund as part of the member’s financial plan. Ideally, an emergency fund should equal to three times the member’s monthly income. To do this, implement the following steps:\n",
    "\n",
    "    1. Create a variable named `emergency_fund_value`, and set it equal to three times the value of the member’s `monthly_income` of $12000. (You set this earlier in Part 1).\n",
    "\n",
    "    2. Create a series of three if statements to determine if the member’s total portfolio is large enough to fund the emergency portfolio:\n",
    "\n",
    "        1. If the total portfolio value is greater than the emergency fund value, display a message congratulating the member for having enough money in this fund.\n",
    "\n",
    "        2. Else if the total portfolio value is equal to the emergency fund value, display a message congratulating the member on reaching this important financial goal.\n",
    "\n",
    "        3. Else the total portfolio is less than the emergency fund value, so display a message showing how many dollars away the member is from reaching the goal. (Subtract the total portfolio value from the emergency fund value.)\n"
   ]
  },
  {
   "cell_type": "markdown",
   "metadata": {},
   "source": [
    "#### Step 1: Create a Python list named `savings_data` that has two elements. The first element contains the total value of the cryptocurrency wallet. The second element contains the total value of the stock and bond portions of the portfolio."
   ]
  },
  {
   "cell_type": "code",
   "execution_count": 25,
   "metadata": {},
   "outputs": [
    {
     "data": {
      "text/plain": [
       "[37081.820999999996, 37023.3]"
      ]
     },
     "execution_count": 25,
     "metadata": {},
     "output_type": "execute_result"
    }
   ],
   "source": [
    "# Consolidate financial assets data into a Python list\n",
    "savings_data = [total_crypto_wallet,total_stocks_bonds]\n",
    "\n",
    "# Review the Python list savings_data\n",
    "savings_data\n",
    "    "
   ]
  },
  {
   "cell_type": "markdown",
   "metadata": {},
   "source": [
    "#### Step 2: Use the `savings_data` list to create a Pandas DataFrame named `savings_df`, and then display this DataFrame. The function to create the DataFrame should take the following three parameters:\n",
    "\n",
    "- `savings_data`: Use the list that you just created.\n",
    "\n",
    "- `columns`: Set this parameter equal to a Python list with a single value called `amount`.\n",
    "\n",
    "- `index`: Set this parameter equal to a Python list with the values of `crypto` and `stock/bond`.\n"
   ]
  },
  {
   "cell_type": "code",
   "execution_count": 26,
   "metadata": {},
   "outputs": [
    {
     "data": {
      "text/html": [
       "<div>\n",
       "<style scoped>\n",
       "    .dataframe tbody tr th:only-of-type {\n",
       "        vertical-align: middle;\n",
       "    }\n",
       "\n",
       "    .dataframe tbody tr th {\n",
       "        vertical-align: top;\n",
       "    }\n",
       "\n",
       "    .dataframe thead th {\n",
       "        text-align: right;\n",
       "    }\n",
       "</style>\n",
       "<table border=\"1\" class=\"dataframe\">\n",
       "  <thead>\n",
       "    <tr style=\"text-align: right;\">\n",
       "      <th></th>\n",
       "      <th>amount</th>\n",
       "    </tr>\n",
       "  </thead>\n",
       "  <tbody>\n",
       "    <tr>\n",
       "      <th>crypto</th>\n",
       "      <td>37081.821</td>\n",
       "    </tr>\n",
       "    <tr>\n",
       "      <th>stock/bond</th>\n",
       "      <td>37023.300</td>\n",
       "    </tr>\n",
       "  </tbody>\n",
       "</table>\n",
       "</div>"
      ],
      "text/plain": [
       "               amount\n",
       "crypto      37081.821\n",
       "stock/bond  37023.300"
      ]
     },
     "execution_count": 26,
     "metadata": {},
     "output_type": "execute_result"
    }
   ],
   "source": [
    "# Create a Pandas DataFrame called savings_df \n",
    "amount = ['amount']\n",
    "indexes = ['crypto','stock/bond']\n",
    "savings_df = pd.DataFrame(\n",
    "    savings_data,\n",
    "    columns = amount,\n",
    "    index = indexes\n",
    ")\n",
    "\n",
    "# Display the savings_df DataFrame\n",
    "savings_df"
   ]
  },
  {
   "cell_type": "markdown",
   "metadata": {},
   "source": [
    "#### Step 3: Use the `savings_df` DataFrame to plot a pie chart that visualizes the composition of the member’s portfolio. The y-axis of the pie chart uses `amount`. Be sure to add a title."
   ]
  },
  {
   "cell_type": "code",
   "execution_count": 28,
   "metadata": {},
   "outputs": [
    {
     "data": {
      "text/plain": [
       "<AxesSubplot:title={'center':'Visual Portfolio Breakdown by Assets Type'}, ylabel='amount'>"
      ]
     },
     "execution_count": 28,
     "metadata": {},
     "output_type": "execute_result"
    },
    {
     "data": {
      "image/png": "[encoded data removed]",
      "text/plain": [
       "<Figure size 720x720 with 1 Axes>"
      ]
     },
     "metadata": {},
     "output_type": "display_data"
    }
   ],
   "source": [
    "# Plot the total value of the member's portfolio (crypto and stock/bond) in a pie chart\n",
    "savings_df.plot.pie(y='amount',figsize=(10,10),title='Visual Portfolio Breakdown by Assets Type')\n"
   ]
  },
  {
   "cell_type": "markdown",
   "metadata": {},
   "source": [
    "#### Step 4: Using Python, determine if the current portfolio has enough to create an emergency fund as part of the member’s financial plan. Ideally, an emergency fund should equal to three times the member’s monthly income. To do this, implement the following steps:\n",
    "\n",
    "Step 1. Create a variable named `emergency_fund_value`, and set it equal to three times the value of the member’s `monthly_income` of 12000. (You set this earlier in Part 1).\n",
    "\n",
    "Step 2. Create a series of three if statements to determine if the member’s total portfolio is large enough to fund the emergency portfolio:\n",
    "\n",
    "* If the total portfolio value is greater than the emergency fund value, display a message congratulating the member for having enough money in this fund.\n",
    "\n",
    "* Else if the total portfolio value is equal to the emergency fund value, display a message congratulating the member on reaching this important financial goal.\n",
    "\n",
    "* Else the total portfolio is less than the emergency fund value, so display a message showing how many dollars away the member is from reaching the goal. (Subtract the total portfolio value from the emergency fund value.)\n"
   ]
  },
  {
   "cell_type": "markdown",
   "metadata": {},
   "source": [
    "##### Step 4-1: Create a variable named `emergency_fund_value`, and set it equal to three times the value of the member’s `monthly_income` of 12000. (You set this earlier in Part 1)."
   ]
  },
  {
   "cell_type": "code",
   "execution_count": 29,
   "metadata": {},
   "outputs": [
    {
     "data": {
      "text/plain": [
       "36000"
      ]
     },
     "execution_count": 29,
     "metadata": {},
     "output_type": "execute_result"
    }
   ],
   "source": [
    "# Create a variable named emergency_fund_value\n",
    "emergency_fund_value = monthly_income * 3\n",
    "emergency_fund_value\n"
   ]
  },
  {
   "cell_type": "markdown",
   "metadata": {},
   "source": [
    "##### Step 4-2: Create a series of three if statements to determine if the member’s total portfolio is large enough to fund the emergency portfolio:\n",
    "\n",
    "* If the total portfolio value is greater than the emergency fund value, display a message congratulating the member for having enough money in this fund.\n",
    "\n",
    "* Else if the total portfolio value is equal to the emergency fund value, display a message congratulating the member on reaching this important financial goal.\n",
    "\n",
    "* Else the total portfolio is less than the emergency fund value, so display a message showing how many dollars away the member is from reaching the goal. (Subtract the total portfolio value from the emergency fund value.)"
   ]
  },
  {
   "cell_type": "code",
   "execution_count": 31,
   "metadata": {},
   "outputs": [
    {
     "name": "stdout",
     "output_type": "stream",
     "text": [
      "You have exceeded expectations for the amount of money in your emergency fund, nice job!\n"
     ]
    }
   ],
   "source": [
    "# Evaluate the possibility of creating an emergency fund with 3 conditions:\n",
    "if total_portfolio > emergency_fund_value:\n",
    "    print(\"You have exceeded expectations for the amount of money in your emergency fund, nice job!\")\n",
    "elif total_portfolio == emergency_fund_value:\n",
    "    print(\"You have met your emergency fund goal!\")\n",
    "else:\n",
    "    diff = emergency_fund_value - total_portfolio\n",
    "    print(f'No more avacado toast, you are under budget. You need another ${diff} to hit your emergency fund goal.')\n",
    "\n"
   ]
  },
  {
   "cell_type": "markdown",
   "metadata": {},
   "source": [
    "## Part 2: Create a Financial Planner for Retirement"
   ]
  },
  {
   "cell_type": "markdown",
   "metadata": {},
   "source": [
    "### Create the Monte Carlo Simulation\n",
    "\n",
    "In this section, you’ll use the MCForecastTools library to create a Monte Carlo simulation for the member’s savings portfolio. To do this, complete the following steps:\n",
    "\n",
    "1. Make an API call via the Alpaca SDK to get 3 years of historical closing prices for a traditional 60/40 portfolio split: 60% stocks (SPY) and 40% bonds (AGG).\n",
    "\n",
    "2. Run a Monte Carlo simulation of 500 samples and 30 years for the 60/40 portfolio, and then plot the results.The following image shows the overlay line plot resulting from a simulation with these characteristics. However, because a random number generator is used to run each live Monte Carlo simulation, your image will differ slightly from this exact image:\n",
    "\n",
    "![A screenshot depicts the resulting plot.](Images/5-4-monte-carlo-line-plot.png)\n",
    "\n",
    "3. Plot the probability distribution of the Monte Carlo simulation. Plot the probability distribution of the Monte Carlo simulation. The following image shows the histogram plot resulting from a simulation with these characteristics. However, because a random number generator is used to run each live Monte Carlo simulation, your image will differ slightly from this exact image:\n",
    "\n",
    "![A screenshot depicts the histogram plot.](Images/5-4-monte-carlo-histogram.png)\n",
    "\n",
    "4. Generate the summary statistics for the Monte Carlo simulation.\n",
    "\n"
   ]
  },
  {
   "cell_type": "markdown",
   "metadata": {},
   "source": [
    "#### Step 1: Make an API call via the Alpaca SDK to get 3 years of historical closing prices for a traditional 60/40 portfolio split: 60% stocks (SPY) and 40% bonds (AGG)."
   ]
  },
  {
   "cell_type": "code",
   "execution_count": 33,
   "metadata": {},
   "outputs": [],
   "source": [
    "# Set start and end dates of 3 years back from your current date\n",
    "# Alternatively, you can use an end date of 2020-08-07 and work 3 years back from that date \n",
    "start_date = pd.Timestamp('2017-08-07',tz='America/New_york').isoformat()\n",
    "end_date = pd.Timestamp('2020-08-27',tz='America/New_york').isoformat()\n",
    "\n",
    "# Set number of rows to 1000 to retrieve the maximum amount of rows\n",
    "timeframe = \"1Day\"\n",
    "rows= 1000"
   ]
  },
  {
   "cell_type": "code",
   "execution_count": 34,
   "metadata": {},
   "outputs": [
    {
     "data": {
      "text/html": [
       "<div>\n",
       "<style scoped>\n",
       "    .dataframe tbody tr th:only-of-type {\n",
       "        vertical-align: middle;\n",
       "    }\n",
       "\n",
       "    .dataframe tbody tr th {\n",
       "        vertical-align: top;\n",
       "    }\n",
       "\n",
       "    .dataframe thead tr th {\n",
       "        text-align: left;\n",
       "    }\n",
       "\n",
       "    .dataframe thead tr:last-of-type th {\n",
       "        text-align: right;\n",
       "    }\n",
       "</style>\n",
       "<table border=\"1\" class=\"dataframe\">\n",
       "  <thead>\n",
       "    <tr>\n",
       "      <th></th>\n",
       "      <th colspan=\"7\" halign=\"left\">SPY</th>\n",
       "      <th colspan=\"7\" halign=\"left\">AGG</th>\n",
       "    </tr>\n",
       "    <tr>\n",
       "      <th></th>\n",
       "      <th>open</th>\n",
       "      <th>high</th>\n",
       "      <th>low</th>\n",
       "      <th>close</th>\n",
       "      <th>volume</th>\n",
       "      <th>trade_count</th>\n",
       "      <th>vwap</th>\n",
       "      <th>open</th>\n",
       "      <th>high</th>\n",
       "      <th>low</th>\n",
       "      <th>close</th>\n",
       "      <th>volume</th>\n",
       "      <th>trade_count</th>\n",
       "      <th>vwap</th>\n",
       "    </tr>\n",
       "    <tr>\n",
       "      <th>timestamp</th>\n",
       "      <th></th>\n",
       "      <th></th>\n",
       "      <th></th>\n",
       "      <th></th>\n",
       "      <th></th>\n",
       "      <th></th>\n",
       "      <th></th>\n",
       "      <th></th>\n",
       "      <th></th>\n",
       "      <th></th>\n",
       "      <th></th>\n",
       "      <th></th>\n",
       "      <th></th>\n",
       "      <th></th>\n",
       "    </tr>\n",
       "  </thead>\n",
       "  <tbody>\n",
       "    <tr>\n",
       "      <th>2017-08-07 04:00:00+00:00</th>\n",
       "      <td>247.50</td>\n",
       "      <td>247.87</td>\n",
       "      <td>247.37</td>\n",
       "      <td>247.87</td>\n",
       "      <td>31995021.0</td>\n",
       "      <td>100111.0</td>\n",
       "      <td>247.668698</td>\n",
       "      <td>109.69</td>\n",
       "      <td>109.72</td>\n",
       "      <td>109.6066</td>\n",
       "      <td>109.67</td>\n",
       "      <td>2359826</td>\n",
       "      <td>7755</td>\n",
       "      <td>109.674876</td>\n",
       "    </tr>\n",
       "    <tr>\n",
       "      <th>2017-08-08 04:00:00+00:00</th>\n",
       "      <td>247.49</td>\n",
       "      <td>248.91</td>\n",
       "      <td>246.83</td>\n",
       "      <td>247.26</td>\n",
       "      <td>61719353.0</td>\n",
       "      <td>192921.0</td>\n",
       "      <td>247.739709</td>\n",
       "      <td>109.67</td>\n",
       "      <td>109.69</td>\n",
       "      <td>109.5000</td>\n",
       "      <td>109.57</td>\n",
       "      <td>2570876</td>\n",
       "      <td>12663</td>\n",
       "      <td>109.577636</td>\n",
       "    </tr>\n",
       "    <tr>\n",
       "      <th>2017-08-09 04:00:00+00:00</th>\n",
       "      <td>246.46</td>\n",
       "      <td>247.31</td>\n",
       "      <td>246.06</td>\n",
       "      <td>247.25</td>\n",
       "      <td>62632619.0</td>\n",
       "      <td>223650.0</td>\n",
       "      <td>246.791421</td>\n",
       "      <td>109.87</td>\n",
       "      <td>109.87</td>\n",
       "      <td>109.6600</td>\n",
       "      <td>109.67</td>\n",
       "      <td>2308932</td>\n",
       "      <td>11031</td>\n",
       "      <td>109.771749</td>\n",
       "    </tr>\n",
       "    <tr>\n",
       "      <th>2017-08-10 04:00:00+00:00</th>\n",
       "      <td>246.30</td>\n",
       "      <td>246.44</td>\n",
       "      <td>243.70</td>\n",
       "      <td>243.76</td>\n",
       "      <td>120418270.0</td>\n",
       "      <td>424321.0</td>\n",
       "      <td>245.027847</td>\n",
       "      <td>109.70</td>\n",
       "      <td>109.85</td>\n",
       "      <td>109.6700</td>\n",
       "      <td>109.78</td>\n",
       "      <td>2004163</td>\n",
       "      <td>12437</td>\n",
       "      <td>109.776611</td>\n",
       "    </tr>\n",
       "    <tr>\n",
       "      <th>2017-08-11 04:00:00+00:00</th>\n",
       "      <td>244.00</td>\n",
       "      <td>244.80</td>\n",
       "      <td>243.75</td>\n",
       "      <td>244.12</td>\n",
       "      <td>74869947.0</td>\n",
       "      <td>278786.0</td>\n",
       "      <td>244.222867</td>\n",
       "      <td>109.75</td>\n",
       "      <td>109.94</td>\n",
       "      <td>109.6800</td>\n",
       "      <td>109.87</td>\n",
       "      <td>1913253</td>\n",
       "      <td>10113</td>\n",
       "      <td>109.860974</td>\n",
       "    </tr>\n",
       "  </tbody>\n",
       "</table>\n",
       "</div>"
      ],
      "text/plain": [
       "                              SPY                                       \\\n",
       "                             open    high     low   close       volume   \n",
       "timestamp                                                                \n",
       "2017-08-07 04:00:00+00:00  247.50  247.87  247.37  247.87   31995021.0   \n",
       "2017-08-08 04:00:00+00:00  247.49  248.91  246.83  247.26   61719353.0   \n",
       "2017-08-09 04:00:00+00:00  246.46  247.31  246.06  247.25   62632619.0   \n",
       "2017-08-10 04:00:00+00:00  246.30  246.44  243.70  243.76  120418270.0   \n",
       "2017-08-11 04:00:00+00:00  244.00  244.80  243.75  244.12   74869947.0   \n",
       "\n",
       "                                                      AGG                    \\\n",
       "                          trade_count        vwap    open    high       low   \n",
       "timestamp                                                                     \n",
       "2017-08-07 04:00:00+00:00    100111.0  247.668698  109.69  109.72  109.6066   \n",
       "2017-08-08 04:00:00+00:00    192921.0  247.739709  109.67  109.69  109.5000   \n",
       "2017-08-09 04:00:00+00:00    223650.0  246.791421  109.87  109.87  109.6600   \n",
       "2017-08-10 04:00:00+00:00    424321.0  245.027847  109.70  109.85  109.6700   \n",
       "2017-08-11 04:00:00+00:00    278786.0  244.222867  109.75  109.94  109.6800   \n",
       "\n",
       "                                                                    \n",
       "                            close   volume trade_count        vwap  \n",
       "timestamp                                                           \n",
       "2017-08-07 04:00:00+00:00  109.67  2359826        7755  109.674876  \n",
       "2017-08-08 04:00:00+00:00  109.57  2570876       12663  109.577636  \n",
       "2017-08-09 04:00:00+00:00  109.67  2308932       11031  109.771749  \n",
       "2017-08-10 04:00:00+00:00  109.78  2004163       12437  109.776611  \n",
       "2017-08-11 04:00:00+00:00  109.87  1913253       10113  109.860974  "
      ]
     },
     "metadata": {},
     "output_type": "display_data"
    },
    {
     "data": {
      "text/html": [
       "<div>\n",
       "<style scoped>\n",
       "    .dataframe tbody tr th:only-of-type {\n",
       "        vertical-align: middle;\n",
       "    }\n",
       "\n",
       "    .dataframe tbody tr th {\n",
       "        vertical-align: top;\n",
       "    }\n",
       "\n",
       "    .dataframe thead tr th {\n",
       "        text-align: left;\n",
       "    }\n",
       "\n",
       "    .dataframe thead tr:last-of-type th {\n",
       "        text-align: right;\n",
       "    }\n",
       "</style>\n",
       "<table border=\"1\" class=\"dataframe\">\n",
       "  <thead>\n",
       "    <tr>\n",
       "      <th></th>\n",
       "      <th colspan=\"7\" halign=\"left\">SPY</th>\n",
       "      <th colspan=\"7\" halign=\"left\">AGG</th>\n",
       "    </tr>\n",
       "    <tr>\n",
       "      <th></th>\n",
       "      <th>open</th>\n",
       "      <th>high</th>\n",
       "      <th>low</th>\n",
       "      <th>close</th>\n",
       "      <th>volume</th>\n",
       "      <th>trade_count</th>\n",
       "      <th>vwap</th>\n",
       "      <th>open</th>\n",
       "      <th>high</th>\n",
       "      <th>low</th>\n",
       "      <th>close</th>\n",
       "      <th>volume</th>\n",
       "      <th>trade_count</th>\n",
       "      <th>vwap</th>\n",
       "    </tr>\n",
       "    <tr>\n",
       "      <th>timestamp</th>\n",
       "      <th></th>\n",
       "      <th></th>\n",
       "      <th></th>\n",
       "      <th></th>\n",
       "      <th></th>\n",
       "      <th></th>\n",
       "      <th></th>\n",
       "      <th></th>\n",
       "      <th></th>\n",
       "      <th></th>\n",
       "      <th></th>\n",
       "      <th></th>\n",
       "      <th></th>\n",
       "      <th></th>\n",
       "    </tr>\n",
       "  </thead>\n",
       "  <tbody>\n",
       "    <tr>\n",
       "      <th>2018-06-27 04:00:00+00:00</th>\n",
       "      <td>272.27</td>\n",
       "      <td>273.865</td>\n",
       "      <td>269.1800</td>\n",
       "      <td>269.35</td>\n",
       "      <td>105191674.0</td>\n",
       "      <td>418205.0</td>\n",
       "      <td>271.108875</td>\n",
       "      <td>106.23</td>\n",
       "      <td>106.310</td>\n",
       "      <td>106.160</td>\n",
       "      <td>106.24</td>\n",
       "      <td>3001405</td>\n",
       "      <td>11551</td>\n",
       "      <td>106.246940</td>\n",
       "    </tr>\n",
       "    <tr>\n",
       "      <th>2018-06-28 04:00:00+00:00</th>\n",
       "      <td>269.26</td>\n",
       "      <td>271.750</td>\n",
       "      <td>268.4900</td>\n",
       "      <td>270.89</td>\n",
       "      <td>77075079.0</td>\n",
       "      <td>367571.0</td>\n",
       "      <td>270.031931</td>\n",
       "      <td>106.28</td>\n",
       "      <td>106.290</td>\n",
       "      <td>106.160</td>\n",
       "      <td>106.23</td>\n",
       "      <td>1800528</td>\n",
       "      <td>8124</td>\n",
       "      <td>106.226389</td>\n",
       "    </tr>\n",
       "    <tr>\n",
       "      <th>2018-06-29 04:00:00+00:00</th>\n",
       "      <td>272.08</td>\n",
       "      <td>273.660</td>\n",
       "      <td>271.1495</td>\n",
       "      <td>271.28</td>\n",
       "      <td>102092599.0</td>\n",
       "      <td>329522.0</td>\n",
       "      <td>272.036249</td>\n",
       "      <td>106.30</td>\n",
       "      <td>106.420</td>\n",
       "      <td>106.250</td>\n",
       "      <td>106.32</td>\n",
       "      <td>7118842</td>\n",
       "      <td>22824</td>\n",
       "      <td>106.321215</td>\n",
       "    </tr>\n",
       "    <tr>\n",
       "      <th>2018-07-02 04:00:00+00:00</th>\n",
       "      <td>269.51</td>\n",
       "      <td>272.040</td>\n",
       "      <td>269.2400</td>\n",
       "      <td>271.86</td>\n",
       "      <td>63769156.0</td>\n",
       "      <td>279127.0</td>\n",
       "      <td>270.689557</td>\n",
       "      <td>106.10</td>\n",
       "      <td>106.125</td>\n",
       "      <td>105.990</td>\n",
       "      <td>105.99</td>\n",
       "      <td>7159907</td>\n",
       "      <td>17760</td>\n",
       "      <td>106.032887</td>\n",
       "    </tr>\n",
       "    <tr>\n",
       "      <th>2018-07-03 04:00:00+00:00</th>\n",
       "      <td>272.88</td>\n",
       "      <td>272.980</td>\n",
       "      <td>270.4200</td>\n",
       "      <td>270.90</td>\n",
       "      <td>42201071.0</td>\n",
       "      <td>180591.0</td>\n",
       "      <td>271.716151</td>\n",
       "      <td>106.03</td>\n",
       "      <td>106.210</td>\n",
       "      <td>106.025</td>\n",
       "      <td>106.21</td>\n",
       "      <td>2429478</td>\n",
       "      <td>10866</td>\n",
       "      <td>106.144191</td>\n",
       "    </tr>\n",
       "  </tbody>\n",
       "</table>\n",
       "</div>"
      ],
      "text/plain": [
       "                              SPY                                          \\\n",
       "                             open     high       low   close       volume   \n",
       "timestamp                                                                   \n",
       "2018-06-27 04:00:00+00:00  272.27  273.865  269.1800  269.35  105191674.0   \n",
       "2018-06-28 04:00:00+00:00  269.26  271.750  268.4900  270.89   77075079.0   \n",
       "2018-06-29 04:00:00+00:00  272.08  273.660  271.1495  271.28  102092599.0   \n",
       "2018-07-02 04:00:00+00:00  269.51  272.040  269.2400  271.86   63769156.0   \n",
       "2018-07-03 04:00:00+00:00  272.88  272.980  270.4200  270.90   42201071.0   \n",
       "\n",
       "                                                      AGG                    \\\n",
       "                          trade_count        vwap    open     high      low   \n",
       "timestamp                                                                     \n",
       "2018-06-27 04:00:00+00:00    418205.0  271.108875  106.23  106.310  106.160   \n",
       "2018-06-28 04:00:00+00:00    367571.0  270.031931  106.28  106.290  106.160   \n",
       "2018-06-29 04:00:00+00:00    329522.0  272.036249  106.30  106.420  106.250   \n",
       "2018-07-02 04:00:00+00:00    279127.0  270.689557  106.10  106.125  105.990   \n",
       "2018-07-03 04:00:00+00:00    180591.0  271.716151  106.03  106.210  106.025   \n",
       "\n",
       "                                                                    \n",
       "                            close   volume trade_count        vwap  \n",
       "timestamp                                                           \n",
       "2018-06-27 04:00:00+00:00  106.24  3001405       11551  106.246940  \n",
       "2018-06-28 04:00:00+00:00  106.23  1800528        8124  106.226389  \n",
       "2018-06-29 04:00:00+00:00  106.32  7118842       22824  106.321215  \n",
       "2018-07-02 04:00:00+00:00  105.99  7159907       17760  106.032887  \n",
       "2018-07-03 04:00:00+00:00  106.21  2429478       10866  106.144191  "
      ]
     },
     "execution_count": 34,
     "metadata": {},
     "output_type": "execute_result"
    }
   ],
   "source": [
    "# Use the Alpaca get_bars function to make the API call to get the 3 years worth of pricing data\n",
    "# The tickers and timeframe parameters should have been set in Part 1 of this activity \n",
    "# The start and end dates should be updated with the information set above\n",
    "# Remember to add the df property to the end of the call so the response is returned as a DataFrame\n",
    "three_years_df = alpaca.get_bars(\n",
    "    tickers,\n",
    "    timeframe,\n",
    "    start = start_date,\n",
    "    end = end_date,\n",
    "    limit = rows\n",
    ").df\n",
    "\n",
    "three_years_df\n",
    "# Reorganize the DataFrame\n",
    "# Separate ticker data\n",
    "spy = three_years_df[three_years_df['symbol']=='SPY'].drop('symbol',axis = 1)\n",
    "agg = three_years_df[three_years_df['symbol']=='AGG'].drop('symbol',axis = 1)\n",
    "\n",
    "# Concatenate the ticker DataFrames\n",
    "three_years_df = pd.concat([spy,agg],axis=1, keys=['SPY','AGG'])\n",
    "three_years_df.dropna(inplace=True)\n",
    "\n",
    "# Display both the first and last five rows of the DataFrame\n",
    "display(three_years_df.head())\n",
    "three_years_df.tail()\n"
   ]
  },
  {
   "cell_type": "markdown",
   "metadata": {},
   "source": [
    "#### Step 2: Run a Monte Carlo simulation of 500 samples and 30 years for the 60/40 portfolio, and then plot the results."
   ]
  },
  {
   "cell_type": "code",
   "execution_count": 37,
   "metadata": {},
   "outputs": [
    {
     "data": {
      "text/plain": [
       "<MCForecastTools.MCSimulation at 0x7fa438911050>"
      ]
     },
     "execution_count": 37,
     "metadata": {},
     "output_type": "execute_result"
    }
   ],
   "source": [
    "# Configure the Monte Carlo simulation to forecast 30 years cumulative returns\n",
    "# The weights should be split 40% to AGG and 60% to SPY.\n",
    "# Run 500 samples.\n",
    "Monte_Carlo_thirty = MCSimulation(\n",
    "    portfolio_data = three_years_df,\n",
    "    weights = [.60,.40],\n",
    "    num_simulation = 500,\n",
    "    num_trading_days = 252*30\n",
    ")\n",
    "\n",
    "# Review the simulation input data\n",
    "Monte_Carlo_thirty\n"
   ]
  },
  {
   "cell_type": "code",
   "execution_count": null,
   "metadata": {},
   "outputs": [
    {
     "name": "stdout",
     "output_type": "stream",
     "text": [
      "Running Monte Carlo simulation number 0.\n",
      "Running Monte Carlo simulation number 10.\n",
      "Running Monte Carlo simulation number 20.\n",
      "Running Monte Carlo simulation number 30.\n",
      "Running Monte Carlo simulation number 40.\n",
      "Running Monte Carlo simulation number 50.\n",
      "Running Monte Carlo simulation number 60.\n",
      "Running Monte Carlo simulation number 70.\n",
      "Running Monte Carlo simulation number 80.\n",
      "Running Monte Carlo simulation number 90.\n",
      "Running Monte Carlo simulation number 100.\n"
     ]
    },
    {
     "name": "stderr",
     "output_type": "stream",
     "text": [
      "/Users/richie/Downloads/Module_5_Challenge/MCForecastTools.py:117: PerformanceWarning: DataFrame is highly fragmented.  This is usually the result of calling `frame.insert` many times, which has poor performance.  Consider joining all columns at once using pd.concat(axis=1) instead.  To get a de-fragmented frame, use `newframe = frame.copy()`\n",
      "  portfolio_cumulative_returns[n] = (1 + sim_df.fillna(0)).cumprod()\n"
     ]
    },
    {
     "name": "stdout",
     "output_type": "stream",
     "text": [
      "Running Monte Carlo simulation number 110.\n",
      "Running Monte Carlo simulation number 120.\n",
      "Running Monte Carlo simulation number 130.\n",
      "Running Monte Carlo simulation number 140.\n",
      "Running Monte Carlo simulation number 150.\n",
      "Running Monte Carlo simulation number 160.\n",
      "Running Monte Carlo simulation number 170.\n",
      "Running Monte Carlo simulation number 180.\n",
      "Running Monte Carlo simulation number 190.\n",
      "Running Monte Carlo simulation number 200.\n",
      "Running Monte Carlo simulation number 210.\n",
      "Running Monte Carlo simulation number 220.\n",
      "Running Monte Carlo simulation number 230.\n",
      "Running Monte Carlo simulation number 240.\n",
      "Running Monte Carlo simulation number 250.\n",
      "Running Monte Carlo simulation number 260.\n",
      "Running Monte Carlo simulation number 270.\n",
      "Running Monte Carlo simulation number 280.\n",
      "Running Monte Carlo simulation number 290.\n",
      "Running Monte Carlo simulation number 300.\n",
      "Running Monte Carlo simulation number 310.\n",
      "Running Monte Carlo simulation number 320.\n",
      "Running Monte Carlo simulation number 330.\n",
      "Running Monte Carlo simulation number 340.\n",
      "Running Monte Carlo simulation number 350.\n",
      "Running Monte Carlo simulation number 360.\n",
      "Running Monte Carlo simulation number 370.\n",
      "Running Monte Carlo simulation number 380.\n",
      "Running Monte Carlo simulation number 390.\n",
      "Running Monte Carlo simulation number 400.\n",
      "Running Monte Carlo simulation number 410.\n",
      "Running Monte Carlo simulation number 420.\n",
      "Running Monte Carlo simulation number 430.\n",
      "Running Monte Carlo simulation number 440.\n",
      "Running Monte Carlo simulation number 450.\n",
      "Running Monte Carlo simulation number 460.\n",
      "Running Monte Carlo simulation number 470.\n",
      "Running Monte Carlo simulation number 480.\n",
      "Running Monte Carlo simulation number 490.\n"
     ]
    },
    {
     "data": {
      "text/html": [
       "<div>\n",
       "<style scoped>\n",
       "    .dataframe tbody tr th:only-of-type {\n",
       "        vertical-align: middle;\n",
       "    }\n",
       "\n",
       "    .dataframe tbody tr th {\n",
       "        vertical-align: top;\n",
       "    }\n",
       "\n",
       "    .dataframe thead th {\n",
       "        text-align: right;\n",
       "    }\n",
       "</style>\n",
       "<table border=\"1\" class=\"dataframe\">\n",
       "  <thead>\n",
       "    <tr style=\"text-align: right;\">\n",
       "      <th></th>\n",
       "      <th>0</th>\n",
       "      <th>1</th>\n",
       "      <th>2</th>\n",
       "      <th>3</th>\n",
       "      <th>4</th>\n",
       "      <th>5</th>\n",
       "      <th>6</th>\n",
       "      <th>7</th>\n",
       "      <th>8</th>\n",
       "      <th>9</th>\n",
       "      <th>...</th>\n",
       "      <th>490</th>\n",
       "      <th>491</th>\n",
       "      <th>492</th>\n",
       "      <th>493</th>\n",
       "      <th>494</th>\n",
       "      <th>495</th>\n",
       "      <th>496</th>\n",
       "      <th>497</th>\n",
       "      <th>498</th>\n",
       "      <th>499</th>\n",
       "    </tr>\n",
       "  </thead>\n",
       "  <tbody>\n",
       "    <tr>\n",
       "      <th>0</th>\n",
       "      <td>1.000000</td>\n",
       "      <td>1.000000</td>\n",
       "      <td>1.000000</td>\n",
       "      <td>1.000000</td>\n",
       "      <td>1.000000</td>\n",
       "      <td>1.000000</td>\n",
       "      <td>1.000000</td>\n",
       "      <td>1.000000</td>\n",
       "      <td>1.000000</td>\n",
       "      <td>1.000000</td>\n",
       "      <td>...</td>\n",
       "      <td>1.000000</td>\n",
       "      <td>1.000000</td>\n",
       "      <td>1.000000</td>\n",
       "      <td>1.000000</td>\n",
       "      <td>1.000000</td>\n",
       "      <td>1.000000</td>\n",
       "      <td>1.000000</td>\n",
       "      <td>1.000000</td>\n",
       "      <td>1.000000</td>\n",
       "      <td>1.000000</td>\n",
       "    </tr>\n",
       "    <tr>\n",
       "      <th>1</th>\n",
       "      <td>1.001239</td>\n",
       "      <td>0.998124</td>\n",
       "      <td>0.994878</td>\n",
       "      <td>1.003835</td>\n",
       "      <td>0.994937</td>\n",
       "      <td>1.007511</td>\n",
       "      <td>0.999964</td>\n",
       "      <td>1.008629</td>\n",
       "      <td>0.999316</td>\n",
       "      <td>1.004723</td>\n",
       "      <td>...</td>\n",
       "      <td>1.003556</td>\n",
       "      <td>1.005782</td>\n",
       "      <td>1.004238</td>\n",
       "      <td>1.004895</td>\n",
       "      <td>1.003208</td>\n",
       "      <td>0.999549</td>\n",
       "      <td>0.999559</td>\n",
       "      <td>0.998716</td>\n",
       "      <td>0.993095</td>\n",
       "      <td>1.001768</td>\n",
       "    </tr>\n",
       "    <tr>\n",
       "      <th>2</th>\n",
       "      <td>0.992000</td>\n",
       "      <td>1.001126</td>\n",
       "      <td>0.998696</td>\n",
       "      <td>1.009430</td>\n",
       "      <td>0.997661</td>\n",
       "      <td>1.003424</td>\n",
       "      <td>0.999757</td>\n",
       "      <td>1.008880</td>\n",
       "      <td>0.994787</td>\n",
       "      <td>1.009801</td>\n",
       "      <td>...</td>\n",
       "      <td>1.006707</td>\n",
       "      <td>1.009360</td>\n",
       "      <td>0.996742</td>\n",
       "      <td>1.003235</td>\n",
       "      <td>1.001897</td>\n",
       "      <td>0.992440</td>\n",
       "      <td>1.009046</td>\n",
       "      <td>1.000452</td>\n",
       "      <td>0.994518</td>\n",
       "      <td>1.004707</td>\n",
       "    </tr>\n",
       "    <tr>\n",
       "      <th>3</th>\n",
       "      <td>0.994253</td>\n",
       "      <td>0.999365</td>\n",
       "      <td>1.002028</td>\n",
       "      <td>1.010094</td>\n",
       "      <td>0.992885</td>\n",
       "      <td>1.003942</td>\n",
       "      <td>0.996052</td>\n",
       "      <td>1.009875</td>\n",
       "      <td>0.993354</td>\n",
       "      <td>1.012916</td>\n",
       "      <td>...</td>\n",
       "      <td>1.007937</td>\n",
       "      <td>1.014070</td>\n",
       "      <td>0.994147</td>\n",
       "      <td>1.004891</td>\n",
       "      <td>0.993240</td>\n",
       "      <td>0.998386</td>\n",
       "      <td>1.008793</td>\n",
       "      <td>1.000875</td>\n",
       "      <td>0.986260</td>\n",
       "      <td>1.012814</td>\n",
       "    </tr>\n",
       "    <tr>\n",
       "      <th>4</th>\n",
       "      <td>0.988695</td>\n",
       "      <td>1.002201</td>\n",
       "      <td>1.003876</td>\n",
       "      <td>1.003537</td>\n",
       "      <td>0.985535</td>\n",
       "      <td>1.004611</td>\n",
       "      <td>0.991304</td>\n",
       "      <td>1.005745</td>\n",
       "      <td>0.987807</td>\n",
       "      <td>1.016597</td>\n",
       "      <td>...</td>\n",
       "      <td>1.011470</td>\n",
       "      <td>1.018967</td>\n",
       "      <td>0.996823</td>\n",
       "      <td>0.995291</td>\n",
       "      <td>0.999830</td>\n",
       "      <td>0.997637</td>\n",
       "      <td>1.009048</td>\n",
       "      <td>1.001133</td>\n",
       "      <td>0.984499</td>\n",
       "      <td>1.008169</td>\n",
       "    </tr>\n",
       "    <tr>\n",
       "      <th>...</th>\n",
       "      <td>...</td>\n",
       "      <td>...</td>\n",
       "      <td>...</td>\n",
       "      <td>...</td>\n",
       "      <td>...</td>\n",
       "      <td>...</td>\n",
       "      <td>...</td>\n",
       "      <td>...</td>\n",
       "      <td>...</td>\n",
       "      <td>...</td>\n",
       "      <td>...</td>\n",
       "      <td>...</td>\n",
       "      <td>...</td>\n",
       "      <td>...</td>\n",
       "      <td>...</td>\n",
       "      <td>...</td>\n",
       "      <td>...</td>\n",
       "      <td>...</td>\n",
       "      <td>...</td>\n",
       "      <td>...</td>\n",
       "      <td>...</td>\n",
       "    </tr>\n",
       "    <tr>\n",
       "      <th>7556</th>\n",
       "      <td>2.484177</td>\n",
       "      <td>4.198660</td>\n",
       "      <td>2.922576</td>\n",
       "      <td>3.716933</td>\n",
       "      <td>4.064157</td>\n",
       "      <td>3.442498</td>\n",
       "      <td>3.308715</td>\n",
       "      <td>4.135753</td>\n",
       "      <td>4.407909</td>\n",
       "      <td>4.791397</td>\n",
       "      <td>...</td>\n",
       "      <td>2.562407</td>\n",
       "      <td>4.095657</td>\n",
       "      <td>4.776319</td>\n",
       "      <td>1.834998</td>\n",
       "      <td>9.979329</td>\n",
       "      <td>4.170109</td>\n",
       "      <td>1.794248</td>\n",
       "      <td>3.907947</td>\n",
       "      <td>2.721215</td>\n",
       "      <td>5.743714</td>\n",
       "    </tr>\n",
       "    <tr>\n",
       "      <th>7557</th>\n",
       "      <td>2.485015</td>\n",
       "      <td>4.217513</td>\n",
       "      <td>2.917309</td>\n",
       "      <td>3.710761</td>\n",
       "      <td>4.036291</td>\n",
       "      <td>3.449079</td>\n",
       "      <td>3.318097</td>\n",
       "      <td>4.138530</td>\n",
       "      <td>4.386253</td>\n",
       "      <td>4.802288</td>\n",
       "      <td>...</td>\n",
       "      <td>2.574469</td>\n",
       "      <td>4.126145</td>\n",
       "      <td>4.705740</td>\n",
       "      <td>1.841941</td>\n",
       "      <td>9.996497</td>\n",
       "      <td>4.164371</td>\n",
       "      <td>1.798180</td>\n",
       "      <td>3.924803</td>\n",
       "      <td>2.722741</td>\n",
       "      <td>5.713946</td>\n",
       "    </tr>\n",
       "    <tr>\n",
       "      <th>7558</th>\n",
       "      <td>2.461711</td>\n",
       "      <td>4.181422</td>\n",
       "      <td>2.945211</td>\n",
       "      <td>3.691635</td>\n",
       "      <td>4.048959</td>\n",
       "      <td>3.455563</td>\n",
       "      <td>3.311550</td>\n",
       "      <td>4.179534</td>\n",
       "      <td>4.418014</td>\n",
       "      <td>4.821641</td>\n",
       "      <td>...</td>\n",
       "      <td>2.571729</td>\n",
       "      <td>4.112293</td>\n",
       "      <td>4.708969</td>\n",
       "      <td>1.846148</td>\n",
       "      <td>10.018117</td>\n",
       "      <td>4.157526</td>\n",
       "      <td>1.803781</td>\n",
       "      <td>3.920098</td>\n",
       "      <td>2.699668</td>\n",
       "      <td>5.738639</td>\n",
       "    </tr>\n",
       "    <tr>\n",
       "      <th>7559</th>\n",
       "      <td>2.452355</td>\n",
       "      <td>4.202824</td>\n",
       "      <td>2.943472</td>\n",
       "      <td>3.714388</td>\n",
       "      <td>4.048859</td>\n",
       "      <td>3.477726</td>\n",
       "      <td>3.324792</td>\n",
       "      <td>4.182684</td>\n",
       "      <td>4.428141</td>\n",
       "      <td>4.810356</td>\n",
       "      <td>...</td>\n",
       "      <td>2.589037</td>\n",
       "      <td>4.122632</td>\n",
       "      <td>4.665338</td>\n",
       "      <td>1.850382</td>\n",
       "      <td>10.092259</td>\n",
       "      <td>4.125115</td>\n",
       "      <td>1.806318</td>\n",
       "      <td>3.890082</td>\n",
       "      <td>2.685227</td>\n",
       "      <td>5.795922</td>\n",
       "    </tr>\n",
       "    <tr>\n",
       "      <th>7560</th>\n",
       "      <td>2.409295</td>\n",
       "      <td>4.184379</td>\n",
       "      <td>2.942021</td>\n",
       "      <td>3.688911</td>\n",
       "      <td>4.034349</td>\n",
       "      <td>3.443125</td>\n",
       "      <td>3.341561</td>\n",
       "      <td>4.191215</td>\n",
       "      <td>4.467082</td>\n",
       "      <td>4.800928</td>\n",
       "      <td>...</td>\n",
       "      <td>2.578265</td>\n",
       "      <td>4.094967</td>\n",
       "      <td>4.663731</td>\n",
       "      <td>1.847943</td>\n",
       "      <td>10.143009</td>\n",
       "      <td>4.132249</td>\n",
       "      <td>1.797812</td>\n",
       "      <td>3.903649</td>\n",
       "      <td>2.679696</td>\n",
       "      <td>5.777447</td>\n",
       "    </tr>\n",
       "  </tbody>\n",
       "</table>\n",
       "<p>7561 rows × 500 columns</p>\n",
       "</div>"
      ],
      "text/plain": [
       "           0         1         2         3         4         5         6    \\\n",
       "0     1.000000  1.000000  1.000000  1.000000  1.000000  1.000000  1.000000   \n",
       "1     1.001239  0.998124  0.994878  1.003835  0.994937  1.007511  0.999964   \n",
       "2     0.992000  1.001126  0.998696  1.009430  0.997661  1.003424  0.999757   \n",
       "3     0.994253  0.999365  1.002028  1.010094  0.992885  1.003942  0.996052   \n",
       "4     0.988695  1.002201  1.003876  1.003537  0.985535  1.004611  0.991304   \n",
       "...        ...       ...       ...       ...       ...       ...       ...   \n",
       "7556  2.484177  4.198660  2.922576  3.716933  4.064157  3.442498  3.308715   \n",
       "7557  2.485015  4.217513  2.917309  3.710761  4.036291  3.449079  3.318097   \n",
       "7558  2.461711  4.181422  2.945211  3.691635  4.048959  3.455563  3.311550   \n",
       "7559  2.452355  4.202824  2.943472  3.714388  4.048859  3.477726  3.324792   \n",
       "7560  2.409295  4.184379  2.942021  3.688911  4.034349  3.443125  3.341561   \n",
       "\n",
       "           7         8         9    ...       490       491       492  \\\n",
       "0     1.000000  1.000000  1.000000  ...  1.000000  1.000000  1.000000   \n",
       "1     1.008629  0.999316  1.004723  ...  1.003556  1.005782  1.004238   \n",
       "2     1.008880  0.994787  1.009801  ...  1.006707  1.009360  0.996742   \n",
       "3     1.009875  0.993354  1.012916  ...  1.007937  1.014070  0.994147   \n",
       "4     1.005745  0.987807  1.016597  ...  1.011470  1.018967  0.996823   \n",
       "...        ...       ...       ...  ...       ...       ...       ...   \n",
       "7556  4.135753  4.407909  4.791397  ...  2.562407  4.095657  4.776319   \n",
       "7557  4.138530  4.386253  4.802288  ...  2.574469  4.126145  4.705740   \n",
       "7558  4.179534  4.418014  4.821641  ...  2.571729  4.112293  4.708969   \n",
       "7559  4.182684  4.428141  4.810356  ...  2.589037  4.122632  4.665338   \n",
       "7560  4.191215  4.467082  4.800928  ...  2.578265  4.094967  4.663731   \n",
       "\n",
       "           493        494       495       496       497       498       499  \n",
       "0     1.000000   1.000000  1.000000  1.000000  1.000000  1.000000  1.000000  \n",
       "1     1.004895   1.003208  0.999549  0.999559  0.998716  0.993095  1.001768  \n",
       "2     1.003235   1.001897  0.992440  1.009046  1.000452  0.994518  1.004707  \n",
       "3     1.004891   0.993240  0.998386  1.008793  1.000875  0.986260  1.012814  \n",
       "4     0.995291   0.999830  0.997637  1.009048  1.001133  0.984499  1.008169  \n",
       "...        ...        ...       ...       ...       ...       ...       ...  \n",
       "7556  1.834998   9.979329  4.170109  1.794248  3.907947  2.721215  5.743714  \n",
       "7557  1.841941   9.996497  4.164371  1.798180  3.924803  2.722741  5.713946  \n",
       "7558  1.846148  10.018117  4.157526  1.803781  3.920098  2.699668  5.738639  \n",
       "7559  1.850382  10.092259  4.125115  1.806318  3.890082  2.685227  5.795922  \n",
       "7560  1.847943  10.143009  4.132249  1.797812  3.903649  2.679696  5.777447  \n",
       "\n",
       "[7561 rows x 500 columns]"
      ]
     },
     "execution_count": 38,
     "metadata": {},
     "output_type": "execute_result"
    }
   ],
   "source": [
    "# Run the Monte Carlo simulation to forecast 30 years cumulative returns\n",
    "Monte_Carlo_thirty.calc_cumulative_return()\n"
   ]
  },
  {
   "cell_type": "code",
   "execution_count": 39,
   "metadata": {},
   "outputs": [
    {
     "data": {
      "text/plain": [
       "<AxesSubplot:title={'center':'500 Simulations of Cumulative Portfolio Return Trajectories Over the Next 7560 Trading Days.'}>"
      ]
     },
     "execution_count": 39,
     "metadata": {},
     "output_type": "execute_result"
    },
    {
     "data": {
      "image/png": "[encoded data removed]",
      "text/plain": [
       "<Figure size 432x288 with 1 Axes>"
      ]
     },
     "metadata": {
      "needs_background": "light"
     },
     "output_type": "display_data"
    }
   ],
   "source": [
    "# Visualize the 30-year Monte Carlo simulation by creating an\n",
    "# overlay line plot\n",
    "Monte_Carlo_thirty.plot_simulation()\n"
   ]
  },
  {
   "cell_type": "markdown",
   "metadata": {},
   "source": [
    "#### Step 3: Plot the probability distribution of the Monte Carlo simulation."
   ]
  },
  {
   "cell_type": "code",
   "execution_count": 40,
   "metadata": {},
   "outputs": [
    {
     "data": {
      "text/plain": [
       "<AxesSubplot:title={'center':'Distribution of Final Cumuluative Returns Across All 500 Simulations'}, ylabel='Frequency'>"
      ]
     },
     "execution_count": 40,
     "metadata": {},
     "output_type": "execute_result"
    },
    {
     "data": {
      "image/png": "[encoded data removed]",
      "text/plain": [
       "<Figure size 432x288 with 1 Axes>"
      ]
     },
     "metadata": {
      "needs_background": "light"
     },
     "output_type": "display_data"
    }
   ],
   "source": [
    "# Visualize the probability distribution of the 30-year Monte Carlo simulation \n",
    "# by plotting a histogram\n",
    "# YOUR CODE HERE\n",
    "Monte_Carlo_thirty.plot_distribution()"
   ]
  },
  {
   "cell_type": "markdown",
   "metadata": {},
   "source": [
    "#### Step 4: Generate the summary statistics for the Monte Carlo simulation."
   ]
  },
  {
   "cell_type": "code",
   "execution_count": 41,
   "metadata": {},
   "outputs": [
    {
     "data": {
      "text/plain": [
       "count           500.000000\n",
       "mean              4.411876\n",
       "std               2.013600\n",
       "min               1.433009\n",
       "25%               3.010163\n",
       "50%               4.032780\n",
       "75%               5.259962\n",
       "max              15.045248\n",
       "95% CI Lower      1.790857\n",
       "95% CI Upper      9.951373\n",
       "Name: 7560, dtype: float64"
      ]
     },
     "execution_count": 41,
     "metadata": {},
     "output_type": "execute_result"
    }
   ],
   "source": [
    "# Generate summary statistics from the 30-year Monte Carlo simulation results\n",
    "# Save the results as a variable\n",
    "Monte_Carlo_thirty_summary = Monte_Carlo_thirty.summarize_cumulative_return()\n",
    "\n",
    "\n",
    "# Review the 30-year Monte Carlo summary statistics\n",
    "Monte_Carlo_thirty_summary"
   ]
  },
  {
   "cell_type": "markdown",
   "metadata": {},
   "source": [
    "### Analyze the Retirement Portfolio Forecasts\n",
    "\n",
    "Using the current value of only the stock and bond portion of the member's portfolio and the summary statistics that you generated from the Monte Carlo simulation, answer the following question in your Jupyter notebook:\n",
    "\n",
    "-  What are the lower and upper bounds for the expected value of the portfolio with a 95% confidence interval?\n"
   ]
  },
  {
   "cell_type": "code",
   "execution_count": 43,
   "metadata": {},
   "outputs": [
    {
     "name": "stdout",
     "output_type": "stream",
     "text": [
      "The current balance of the stock and bonds in this portfolio = $ 37023.30\n"
     ]
    }
   ],
   "source": [
    "# Print the current balance of the stock and bond portion of the members portfolio\n",
    "print(f'The current balance of the stock and bonds in this portfolio = ${total_stocks_bonds: .02f}')\n"
   ]
  },
  {
   "cell_type": "code",
   "execution_count": 44,
   "metadata": {},
   "outputs": [
    {
     "name": "stdout",
     "output_type": "stream",
     "text": [
      "The lower confidence interval with 95% confidence leads to a stock & bond value of $ 66303.45\n",
      "The upper confidence interval with 95% confidence leads to a stock & bond value of $ 368432.68\n"
     ]
    }
   ],
   "source": [
    "# Use the lower and upper `95%` confidence intervals to calculate the range of the possible outcomes for the current stock/bond portfolio\n",
    "ci_lower_thirty_cumulative_return = total_stocks_bonds * Monte_Carlo_thirty_summary[8]\n",
    "ci_upper_thirty_cumulative_return = total_stocks_bonds * Monte_Carlo_thirty_summary[9]\n",
    "\n",
    "# Print the result of your calculations\n",
    "print(f'The lower confidence interval with 95% confidence leads to a stock & bond value of ${ci_lower_thirty_cumulative_return: .02f}')\n",
    "print(f'The upper confidence interval with 95% confidence leads to a stock & bond value of ${ci_upper_thirty_cumulative_return: .02f}')\n"
   ]
  },
  {
   "cell_type": "markdown",
   "metadata": {},
   "source": [
    "### Forecast Cumulative Returns in 10 Years\n",
    "\n",
    "The CTO of the credit union is impressed with your work on these planning tools but wonders if 30 years is a long time to wait until retirement. So, your next task is to adjust the retirement portfolio and run a new Monte Carlo simulation to find out if the changes will allow members to retire earlier.\n",
    "\n",
    "For this new Monte Carlo simulation, do the following: \n",
    "\n",
    "- Forecast the cumulative returns for 10 years from now. Because of the shortened investment horizon (30 years to 10 years), the portfolio needs to invest more heavily in the riskier asset&mdash;that is, stock&mdash;to help accumulate wealth for retirement. \n",
    "\n",
    "- Adjust the weights of the retirement portfolio so that the composition for the Monte Carlo simulation consists of 20% bonds and 80% stocks. \n",
    "\n",
    "- Run the simulation over 500 samples, and use the same data that the API call to Alpaca generated.\n",
    "\n",
    "- Based on the new Monte Carlo simulation, answer the following questions in your Jupyter notebook:\n",
    "\n",
    "    - Using the current value of only the stock and bond portion of the member's portfolio and the summary statistics that you generated from the new Monte Carlo simulation, what are the lower and upper bounds for the expected value of the portfolio (with the new weights) with a 95% confidence interval?\n",
    "\n",
    "    - Will weighting the portfolio more heavily toward stocks allow the credit union members to retire after only 10 years?\n"
   ]
  },
  {
   "cell_type": "code",
   "execution_count": 45,
   "metadata": {},
   "outputs": [
    {
     "data": {
      "text/plain": [
       "<MCForecastTools.MCSimulation at 0x7fa41d2d9bd0>"
      ]
     },
     "execution_count": 45,
     "metadata": {},
     "output_type": "execute_result"
    }
   ],
   "source": [
    "# Configure a Monte Carlo simulation to forecast 10 years cumulative returns\n",
    "# The weights should be split 20% to AGG and 80% to SPY.\n",
    "# Run 500 samples.\n",
    "Monte_Carlo_ten = MCSimulation(\n",
    "    portfolio_data = three_years_df,\n",
    "    weights = [.8,.2],\n",
    "    num_simulation = 500,\n",
    "    num_trading_days = 252*10\n",
    ")\n",
    "\n",
    "\n",
    "# Review the simulation input data\n",
    "Monte_Carlo_ten\n"
   ]
  },
  {
   "cell_type": "code",
   "execution_count": 46,
   "metadata": {},
   "outputs": [
    {
     "name": "stdout",
     "output_type": "stream",
     "text": [
      "Running Monte Carlo simulation number 0.\n",
      "Running Monte Carlo simulation number 10.\n",
      "Running Monte Carlo simulation number 20.\n",
      "Running Monte Carlo simulation number 30.\n",
      "Running Monte Carlo simulation number 40.\n",
      "Running Monte Carlo simulation number 50.\n",
      "Running Monte Carlo simulation number 60.\n",
      "Running Monte Carlo simulation number 70.\n",
      "Running Monte Carlo simulation number 80.\n",
      "Running Monte Carlo simulation number 90.\n",
      "Running Monte Carlo simulation number 100.\n"
     ]
    },
    {
     "name": "stderr",
     "output_type": "stream",
     "text": [
      "/Users/richie/Downloads/Module_5_Challenge/MCForecastTools.py:117: PerformanceWarning: DataFrame is highly fragmented.  This is usually the result of calling `frame.insert` many times, which has poor performance.  Consider joining all columns at once using pd.concat(axis=1) instead.  To get a de-fragmented frame, use `newframe = frame.copy()`\n",
      "  portfolio_cumulative_returns[n] = (1 + sim_df.fillna(0)).cumprod()\n"
     ]
    },
    {
     "name": "stdout",
     "output_type": "stream",
     "text": [
      "Running Monte Carlo simulation number 110.\n",
      "Running Monte Carlo simulation number 120.\n",
      "Running Monte Carlo simulation number 130.\n",
      "Running Monte Carlo simulation number 140.\n",
      "Running Monte Carlo simulation number 150.\n",
      "Running Monte Carlo simulation number 160.\n",
      "Running Monte Carlo simulation number 170.\n",
      "Running Monte Carlo simulation number 180.\n",
      "Running Monte Carlo simulation number 190.\n",
      "Running Monte Carlo simulation number 200.\n",
      "Running Monte Carlo simulation number 210.\n",
      "Running Monte Carlo simulation number 220.\n",
      "Running Monte Carlo simulation number 230.\n",
      "Running Monte Carlo simulation number 240.\n",
      "Running Monte Carlo simulation number 250.\n",
      "Running Monte Carlo simulation number 260.\n",
      "Running Monte Carlo simulation number 270.\n",
      "Running Monte Carlo simulation number 280.\n",
      "Running Monte Carlo simulation number 290.\n",
      "Running Monte Carlo simulation number 300.\n",
      "Running Monte Carlo simulation number 310.\n",
      "Running Monte Carlo simulation number 320.\n",
      "Running Monte Carlo simulation number 330.\n",
      "Running Monte Carlo simulation number 340.\n",
      "Running Monte Carlo simulation number 350.\n",
      "Running Monte Carlo simulation number 360.\n",
      "Running Monte Carlo simulation number 370.\n",
      "Running Monte Carlo simulation number 380.\n",
      "Running Monte Carlo simulation number 390.\n",
      "Running Monte Carlo simulation number 400.\n",
      "Running Monte Carlo simulation number 410.\n",
      "Running Monte Carlo simulation number 420.\n",
      "Running Monte Carlo simulation number 430.\n",
      "Running Monte Carlo simulation number 440.\n",
      "Running Monte Carlo simulation number 450.\n",
      "Running Monte Carlo simulation number 460.\n",
      "Running Monte Carlo simulation number 470.\n",
      "Running Monte Carlo simulation number 480.\n",
      "Running Monte Carlo simulation number 490.\n"
     ]
    },
    {
     "data": {
      "text/html": [
       "<div>\n",
       "<style scoped>\n",
       "    .dataframe tbody tr th:only-of-type {\n",
       "        vertical-align: middle;\n",
       "    }\n",
       "\n",
       "    .dataframe tbody tr th {\n",
       "        vertical-align: top;\n",
       "    }\n",
       "\n",
       "    .dataframe thead th {\n",
       "        text-align: right;\n",
       "    }\n",
       "</style>\n",
       "<table border=\"1\" class=\"dataframe\">\n",
       "  <thead>\n",
       "    <tr style=\"text-align: right;\">\n",
       "      <th></th>\n",
       "      <th>0</th>\n",
       "      <th>1</th>\n",
       "      <th>2</th>\n",
       "      <th>3</th>\n",
       "      <th>4</th>\n",
       "      <th>5</th>\n",
       "      <th>6</th>\n",
       "      <th>7</th>\n",
       "      <th>8</th>\n",
       "      <th>9</th>\n",
       "      <th>...</th>\n",
       "      <th>490</th>\n",
       "      <th>491</th>\n",
       "      <th>492</th>\n",
       "      <th>493</th>\n",
       "      <th>494</th>\n",
       "      <th>495</th>\n",
       "      <th>496</th>\n",
       "      <th>497</th>\n",
       "      <th>498</th>\n",
       "      <th>499</th>\n",
       "    </tr>\n",
       "  </thead>\n",
       "  <tbody>\n",
       "    <tr>\n",
       "      <th>0</th>\n",
       "      <td>1.000000</td>\n",
       "      <td>1.000000</td>\n",
       "      <td>1.000000</td>\n",
       "      <td>1.000000</td>\n",
       "      <td>1.000000</td>\n",
       "      <td>1.000000</td>\n",
       "      <td>1.000000</td>\n",
       "      <td>1.000000</td>\n",
       "      <td>1.000000</td>\n",
       "      <td>1.000000</td>\n",
       "      <td>...</td>\n",
       "      <td>1.000000</td>\n",
       "      <td>1.000000</td>\n",
       "      <td>1.000000</td>\n",
       "      <td>1.000000</td>\n",
       "      <td>1.000000</td>\n",
       "      <td>1.000000</td>\n",
       "      <td>1.000000</td>\n",
       "      <td>1.000000</td>\n",
       "      <td>1.000000</td>\n",
       "      <td>1.000000</td>\n",
       "    </tr>\n",
       "    <tr>\n",
       "      <th>1</th>\n",
       "      <td>0.994599</td>\n",
       "      <td>0.979294</td>\n",
       "      <td>0.999425</td>\n",
       "      <td>0.984733</td>\n",
       "      <td>0.998671</td>\n",
       "      <td>1.006980</td>\n",
       "      <td>0.992064</td>\n",
       "      <td>1.002384</td>\n",
       "      <td>0.995508</td>\n",
       "      <td>0.999623</td>\n",
       "      <td>...</td>\n",
       "      <td>1.004286</td>\n",
       "      <td>1.008247</td>\n",
       "      <td>0.999512</td>\n",
       "      <td>0.999341</td>\n",
       "      <td>1.006076</td>\n",
       "      <td>0.997440</td>\n",
       "      <td>1.000647</td>\n",
       "      <td>1.012178</td>\n",
       "      <td>0.989689</td>\n",
       "      <td>1.002401</td>\n",
       "    </tr>\n",
       "    <tr>\n",
       "      <th>2</th>\n",
       "      <td>0.990987</td>\n",
       "      <td>0.975343</td>\n",
       "      <td>0.988850</td>\n",
       "      <td>0.985036</td>\n",
       "      <td>0.988835</td>\n",
       "      <td>1.006390</td>\n",
       "      <td>0.993508</td>\n",
       "      <td>1.002949</td>\n",
       "      <td>1.005078</td>\n",
       "      <td>1.000627</td>\n",
       "      <td>...</td>\n",
       "      <td>1.000944</td>\n",
       "      <td>1.012300</td>\n",
       "      <td>1.015050</td>\n",
       "      <td>0.996819</td>\n",
       "      <td>1.013894</td>\n",
       "      <td>0.993113</td>\n",
       "      <td>1.001986</td>\n",
       "      <td>1.016332</td>\n",
       "      <td>0.986739</td>\n",
       "      <td>1.003342</td>\n",
       "    </tr>\n",
       "    <tr>\n",
       "      <th>3</th>\n",
       "      <td>1.004460</td>\n",
       "      <td>0.991545</td>\n",
       "      <td>0.998081</td>\n",
       "      <td>0.976694</td>\n",
       "      <td>0.991762</td>\n",
       "      <td>1.016057</td>\n",
       "      <td>0.993608</td>\n",
       "      <td>0.996604</td>\n",
       "      <td>1.000940</td>\n",
       "      <td>1.003286</td>\n",
       "      <td>...</td>\n",
       "      <td>0.998382</td>\n",
       "      <td>1.015221</td>\n",
       "      <td>1.022667</td>\n",
       "      <td>0.998366</td>\n",
       "      <td>1.008324</td>\n",
       "      <td>0.987149</td>\n",
       "      <td>1.012478</td>\n",
       "      <td>1.013802</td>\n",
       "      <td>0.979940</td>\n",
       "      <td>1.004106</td>\n",
       "    </tr>\n",
       "    <tr>\n",
       "      <th>4</th>\n",
       "      <td>1.005791</td>\n",
       "      <td>0.992866</td>\n",
       "      <td>1.008145</td>\n",
       "      <td>0.984804</td>\n",
       "      <td>1.005879</td>\n",
       "      <td>1.015389</td>\n",
       "      <td>0.996416</td>\n",
       "      <td>0.996677</td>\n",
       "      <td>1.001361</td>\n",
       "      <td>1.005800</td>\n",
       "      <td>...</td>\n",
       "      <td>0.994146</td>\n",
       "      <td>1.015856</td>\n",
       "      <td>1.028398</td>\n",
       "      <td>0.997437</td>\n",
       "      <td>1.009292</td>\n",
       "      <td>0.995215</td>\n",
       "      <td>1.022814</td>\n",
       "      <td>1.023722</td>\n",
       "      <td>0.983504</td>\n",
       "      <td>1.009402</td>\n",
       "    </tr>\n",
       "    <tr>\n",
       "      <th>...</th>\n",
       "      <td>...</td>\n",
       "      <td>...</td>\n",
       "      <td>...</td>\n",
       "      <td>...</td>\n",
       "      <td>...</td>\n",
       "      <td>...</td>\n",
       "      <td>...</td>\n",
       "      <td>...</td>\n",
       "      <td>...</td>\n",
       "      <td>...</td>\n",
       "      <td>...</td>\n",
       "      <td>...</td>\n",
       "      <td>...</td>\n",
       "      <td>...</td>\n",
       "      <td>...</td>\n",
       "      <td>...</td>\n",
       "      <td>...</td>\n",
       "      <td>...</td>\n",
       "      <td>...</td>\n",
       "      <td>...</td>\n",
       "      <td>...</td>\n",
       "    </tr>\n",
       "    <tr>\n",
       "      <th>2516</th>\n",
       "      <td>0.838112</td>\n",
       "      <td>1.399038</td>\n",
       "      <td>1.696243</td>\n",
       "      <td>2.669633</td>\n",
       "      <td>2.122638</td>\n",
       "      <td>1.819919</td>\n",
       "      <td>2.999361</td>\n",
       "      <td>2.449745</td>\n",
       "      <td>1.740152</td>\n",
       "      <td>1.143428</td>\n",
       "      <td>...</td>\n",
       "      <td>1.491079</td>\n",
       "      <td>1.848866</td>\n",
       "      <td>2.025616</td>\n",
       "      <td>1.935473</td>\n",
       "      <td>2.445128</td>\n",
       "      <td>1.868877</td>\n",
       "      <td>1.610832</td>\n",
       "      <td>2.134734</td>\n",
       "      <td>2.432959</td>\n",
       "      <td>3.005729</td>\n",
       "    </tr>\n",
       "    <tr>\n",
       "      <th>2517</th>\n",
       "      <td>0.838145</td>\n",
       "      <td>1.414364</td>\n",
       "      <td>1.706177</td>\n",
       "      <td>2.676349</td>\n",
       "      <td>2.087006</td>\n",
       "      <td>1.806532</td>\n",
       "      <td>2.990071</td>\n",
       "      <td>2.443245</td>\n",
       "      <td>1.744634</td>\n",
       "      <td>1.139929</td>\n",
       "      <td>...</td>\n",
       "      <td>1.495589</td>\n",
       "      <td>1.847545</td>\n",
       "      <td>2.019221</td>\n",
       "      <td>1.941674</td>\n",
       "      <td>2.441698</td>\n",
       "      <td>1.873800</td>\n",
       "      <td>1.598025</td>\n",
       "      <td>2.127079</td>\n",
       "      <td>2.435562</td>\n",
       "      <td>3.023603</td>\n",
       "    </tr>\n",
       "    <tr>\n",
       "      <th>2518</th>\n",
       "      <td>0.840707</td>\n",
       "      <td>1.420168</td>\n",
       "      <td>1.713127</td>\n",
       "      <td>2.711300</td>\n",
       "      <td>2.094864</td>\n",
       "      <td>1.805352</td>\n",
       "      <td>3.014207</td>\n",
       "      <td>2.458009</td>\n",
       "      <td>1.758163</td>\n",
       "      <td>1.143948</td>\n",
       "      <td>...</td>\n",
       "      <td>1.501101</td>\n",
       "      <td>1.860441</td>\n",
       "      <td>2.013943</td>\n",
       "      <td>1.971310</td>\n",
       "      <td>2.419655</td>\n",
       "      <td>1.863298</td>\n",
       "      <td>1.593548</td>\n",
       "      <td>2.133214</td>\n",
       "      <td>2.443260</td>\n",
       "      <td>3.029743</td>\n",
       "    </tr>\n",
       "    <tr>\n",
       "      <th>2519</th>\n",
       "      <td>0.833831</td>\n",
       "      <td>1.418647</td>\n",
       "      <td>1.713634</td>\n",
       "      <td>2.705155</td>\n",
       "      <td>2.065330</td>\n",
       "      <td>1.804839</td>\n",
       "      <td>3.034450</td>\n",
       "      <td>2.464550</td>\n",
       "      <td>1.756985</td>\n",
       "      <td>1.140643</td>\n",
       "      <td>...</td>\n",
       "      <td>1.501478</td>\n",
       "      <td>1.855628</td>\n",
       "      <td>2.009422</td>\n",
       "      <td>1.975462</td>\n",
       "      <td>2.442536</td>\n",
       "      <td>1.861312</td>\n",
       "      <td>1.609271</td>\n",
       "      <td>2.135092</td>\n",
       "      <td>2.429712</td>\n",
       "      <td>3.040956</td>\n",
       "    </tr>\n",
       "    <tr>\n",
       "      <th>2520</th>\n",
       "      <td>0.831815</td>\n",
       "      <td>1.410664</td>\n",
       "      <td>1.715044</td>\n",
       "      <td>2.693252</td>\n",
       "      <td>2.074475</td>\n",
       "      <td>1.817650</td>\n",
       "      <td>3.028954</td>\n",
       "      <td>2.484644</td>\n",
       "      <td>1.754748</td>\n",
       "      <td>1.143367</td>\n",
       "      <td>...</td>\n",
       "      <td>1.507616</td>\n",
       "      <td>1.855752</td>\n",
       "      <td>2.000067</td>\n",
       "      <td>1.977153</td>\n",
       "      <td>2.430885</td>\n",
       "      <td>1.860990</td>\n",
       "      <td>1.603534</td>\n",
       "      <td>2.147441</td>\n",
       "      <td>2.402297</td>\n",
       "      <td>3.122764</td>\n",
       "    </tr>\n",
       "  </tbody>\n",
       "</table>\n",
       "<p>2521 rows × 500 columns</p>\n",
       "</div>"
      ],
      "text/plain": [
       "           0         1         2         3         4         5         6    \\\n",
       "0     1.000000  1.000000  1.000000  1.000000  1.000000  1.000000  1.000000   \n",
       "1     0.994599  0.979294  0.999425  0.984733  0.998671  1.006980  0.992064   \n",
       "2     0.990987  0.975343  0.988850  0.985036  0.988835  1.006390  0.993508   \n",
       "3     1.004460  0.991545  0.998081  0.976694  0.991762  1.016057  0.993608   \n",
       "4     1.005791  0.992866  1.008145  0.984804  1.005879  1.015389  0.996416   \n",
       "...        ...       ...       ...       ...       ...       ...       ...   \n",
       "2516  0.838112  1.399038  1.696243  2.669633  2.122638  1.819919  2.999361   \n",
       "2517  0.838145  1.414364  1.706177  2.676349  2.087006  1.806532  2.990071   \n",
       "2518  0.840707  1.420168  1.713127  2.711300  2.094864  1.805352  3.014207   \n",
       "2519  0.833831  1.418647  1.713634  2.705155  2.065330  1.804839  3.034450   \n",
       "2520  0.831815  1.410664  1.715044  2.693252  2.074475  1.817650  3.028954   \n",
       "\n",
       "           7         8         9    ...       490       491       492  \\\n",
       "0     1.000000  1.000000  1.000000  ...  1.000000  1.000000  1.000000   \n",
       "1     1.002384  0.995508  0.999623  ...  1.004286  1.008247  0.999512   \n",
       "2     1.002949  1.005078  1.000627  ...  1.000944  1.012300  1.015050   \n",
       "3     0.996604  1.000940  1.003286  ...  0.998382  1.015221  1.022667   \n",
       "4     0.996677  1.001361  1.005800  ...  0.994146  1.015856  1.028398   \n",
       "...        ...       ...       ...  ...       ...       ...       ...   \n",
       "2516  2.449745  1.740152  1.143428  ...  1.491079  1.848866  2.025616   \n",
       "2517  2.443245  1.744634  1.139929  ...  1.495589  1.847545  2.019221   \n",
       "2518  2.458009  1.758163  1.143948  ...  1.501101  1.860441  2.013943   \n",
       "2519  2.464550  1.756985  1.140643  ...  1.501478  1.855628  2.009422   \n",
       "2520  2.484644  1.754748  1.143367  ...  1.507616  1.855752  2.000067   \n",
       "\n",
       "           493       494       495       496       497       498       499  \n",
       "0     1.000000  1.000000  1.000000  1.000000  1.000000  1.000000  1.000000  \n",
       "1     0.999341  1.006076  0.997440  1.000647  1.012178  0.989689  1.002401  \n",
       "2     0.996819  1.013894  0.993113  1.001986  1.016332  0.986739  1.003342  \n",
       "3     0.998366  1.008324  0.987149  1.012478  1.013802  0.979940  1.004106  \n",
       "4     0.997437  1.009292  0.995215  1.022814  1.023722  0.983504  1.009402  \n",
       "...        ...       ...       ...       ...       ...       ...       ...  \n",
       "2516  1.935473  2.445128  1.868877  1.610832  2.134734  2.432959  3.005729  \n",
       "2517  1.941674  2.441698  1.873800  1.598025  2.127079  2.435562  3.023603  \n",
       "2518  1.971310  2.419655  1.863298  1.593548  2.133214  2.443260  3.029743  \n",
       "2519  1.975462  2.442536  1.861312  1.609271  2.135092  2.429712  3.040956  \n",
       "2520  1.977153  2.430885  1.860990  1.603534  2.147441  2.402297  3.122764  \n",
       "\n",
       "[2521 rows x 500 columns]"
      ]
     },
     "execution_count": 46,
     "metadata": {},
     "output_type": "execute_result"
    }
   ],
   "source": [
    "# Run the Monte Carlo simulation to forecast 10 years cumulative returns\n",
    "Monte_Carlo_ten.calc_cumulative_return()"
   ]
  },
  {
   "cell_type": "code",
   "execution_count": 50,
   "metadata": {},
   "outputs": [
    {
     "data": {
      "text/plain": [
       "<AxesSubplot:title={'center':'500 Simulations of Cumulative Portfolio Return Trajectories Over the Next 2520 Trading Days.'}>"
      ]
     },
     "execution_count": 50,
     "metadata": {},
     "output_type": "execute_result"
    },
    {
     "data": {
      "image/png": "[encoded data removed]",
      "text/plain": [
       "<Figure size 432x288 with 1 Axes>"
      ]
     },
     "metadata": {
      "needs_background": "light"
     },
     "output_type": "display_data"
    }
   ],
   "source": [
    "# Visualize the 10-year Monte Carlo simulation by creating an\n",
    "# overlay line plot\n",
    "Monte_Carlo_ten.plot_simulation()\n"
   ]
  },
  {
   "cell_type": "code",
   "execution_count": 52,
   "metadata": {},
   "outputs": [
    {
     "data": {
      "text/plain": [
       "<AxesSubplot:title={'center':'Distribution of Final Cumuluative Returns Across All 500 Simulations'}, ylabel='Frequency'>"
      ]
     },
     "execution_count": 52,
     "metadata": {},
     "output_type": "execute_result"
    },
    {
     "data": {
      "image/png": "[encoded data removed]",
      "text/plain": [
       "<Figure size 432x288 with 1 Axes>"
      ]
     },
     "metadata": {
      "needs_background": "light"
     },
     "output_type": "display_data"
    }
   ],
   "source": [
    "# Visualize the probability distribution of the 10-year Monte Carlo simulation \n",
    "# by plotting a histogram\n",
    "Monte_Carlo_ten.plot_distribution()\n"
   ]
  },
  {
   "cell_type": "code",
   "execution_count": 55,
   "metadata": {},
   "outputs": [
    {
     "data": {
      "text/plain": [
       "count           500.000000\n",
       "mean              2.128436\n",
       "std               0.666229\n",
       "min               0.831815\n",
       "25%               1.682808\n",
       "50%               2.017207\n",
       "75%               2.478715\n",
       "max               5.013457\n",
       "95% CI Lower      1.123258\n",
       "95% CI Upper      3.727017\n",
       "Name: 2520, dtype: float64"
      ]
     },
     "execution_count": 55,
     "metadata": {},
     "output_type": "execute_result"
    }
   ],
   "source": [
    "# Generate summary statistics from the 10-year Monte Carlo simulation results\n",
    "# Save the results as a variable\n",
    "Monte_Carlo_ten_summary = Monte_Carlo_ten.summarize_cumulative_return()\n",
    "\n",
    "\n",
    "# Review the 10-year Monte Carlo summary statistics\n",
    "Monte_Carlo_ten_summary"
   ]
  },
  {
   "cell_type": "markdown",
   "metadata": {},
   "source": [
    "### Answer the following questions:"
   ]
  },
  {
   "cell_type": "markdown",
   "metadata": {},
   "source": [
    "#### Question: Using the current value of only the stock and bond portion of the member's portfolio and the summary statistics that you generated from the new Monte Carlo simulation, what are the lower and upper bounds for the expected value of the portfolio (with the new weights) with a 95% confidence interval?"
   ]
  },
  {
   "cell_type": "code",
   "execution_count": 56,
   "metadata": {},
   "outputs": [
    {
     "name": "stdout",
     "output_type": "stream",
     "text": [
      "The current balance of stocks and bonds in this portfolio = $ 37023.30\n"
     ]
    }
   ],
   "source": [
    "# Print the current balance of the stock and bond portion of the members portfolio\n",
    "print(f'The current balance of stocks and bonds in this portfolio = ${total_stocks_bonds: .02f}')\n"
   ]
  },
  {
   "cell_type": "code",
   "execution_count": 57,
   "metadata": {},
   "outputs": [
    {
     "name": "stdout",
     "output_type": "stream",
     "text": [
      "The lower confidence interval with 95% confidence leads to a stock & bond value of $ 41586.70\n",
      "The upper confidence interval with 95% confidence leads to a stock & bond value of $ 137986.48\n"
     ]
    }
   ],
   "source": [
    "# Use the lower and upper `95%` confidence intervals to calculate the range of the possible outcomes for the current stock/bond portfolio\n",
    "ci_lower_ten_cumulative_return = total_stocks_bonds * Monte_Carlo_ten_summary[8]\n",
    "ci_upper_ten_cumulative_return = total_stocks_bonds * Monte_Carlo_ten_summary[9]\n",
    "\n",
    "# Print the result of your calculations\n",
    "print(f'The lower confidence interval with 95% confidence leads to a stock & bond value of ${ci_lower_ten_cumulative_return: .02f}')\n",
    "print(f'The upper confidence interval with 95% confidence leads to a stock & bond value of ${ci_upper_ten_cumulative_return: .02f}')\n"
   ]
  },
  {
   "cell_type": "markdown",
   "metadata": {},
   "source": [
    "#### Question: Will weighting the portfolio more heavily to stocks allow the credit union members to retire after only 10 years?"
   ]
  },
  {
   "cell_type": "raw",
   "metadata": {},
   "source": [
    "**Answer** # Yes, as long as the market doesn't crash. These are predictions at the end of the day."
   ]
  },
  {
   "cell_type": "code",
   "execution_count": null,
   "metadata": {},
   "outputs": [],
   "source": []
  },
  {
   "cell_type": "code",
   "execution_count": null,
   "metadata": {},
   "outputs": [],
   "source": []
  }
 ],
 "metadata": {
  "kernelspec": {
   "display_name": "Python (dev)",
   "language": "python",
   "name": "dev"
  },
  "language_info": {
   "codemirror_mode": {
    "name": "ipython",
    "version": 3
   },
   "file_extension": ".py",
   "mimetype": "text/x-python",
   "name": "python",
   "nbconvert_exporter": "python",
   "pygments_lexer": "ipython3",
   "version": "3.7.11"
  }
 },
 "nbformat": 4,
 "nbformat_minor": 4
}
